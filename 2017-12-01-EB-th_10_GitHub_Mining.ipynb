{
 "cells": [
  {
   "cell_type": "markdown",
   "metadata": {},
   "source": [
    "# GitHub Mining "
   ]
  },
  {
   "cell_type": "markdown",
   "metadata": {},
   "source": [
    "## Git, GitHub - was ist das? "
   ]
  },
  {
   "cell_type": "markdown",
   "metadata": {},
   "source": [
    "**`Git`** ist eine Software zur Versionsverwaltung bei der Entwicklung von Software. Entwickelt wurde Git aufgrund von Lizenzproblemen mit der ursprünglichen Versionsverwaltungssoftware die bei der Entwicklung des Linux-Kernels zum Einsatz kam. Der Initiator *Linus Torvalds* präsentierteeine erste Version, wenige Monate nach Entwicklungsbeginn, bereits im April 2005. [[5](#Referenzen)]\n",
    "\n",
    "> “I’m an egotistical bastard, and I name all my projects after myself. First ‘Linux’, now ‘Git’.”\n",
    "   „Ich bin ein egoistisches Arschloch und ich benenne all meine Projekte nach mir. Zuerst ‚Linux‘, jetzt eben ‚Git‘.“\n",
    "      – Linus Torvalds [[3](#Referenzen)]\n",
    "      \n",
    "`Linux` basiert auf seinem Vornamen `Linus` wobei `Git` ins Deutsche als `Trottel, Blödmann` zu übersetzen ist. Wie Blödmann in diesem Sinne zu verstehen ist, ist Interpretationssache.\n",
    "___\n",
    "  \n",
    "**`GitHub`** ist eine webbasierte Anwendung, welche quelloffene Software hostet. Der hautpsächliche Unterschied zu weiteren Plattformen, welche quelloffene Software hosten besteht darin, das GitHub, die Codebase, von Usern verwaltet, hostet und wie der Name schon sagt auf der Git *aufsetzt* und Versionsverwaltung ermöglicht. Somit ist die Versionsverwaltung von Software, welche über git im Terminal gemacht wird, grafisch aufgearbeitet und einfach zu bedienen. Durch diese einfach und unkomplizierte Nutzung von git und das internationale Zusammenarbeiten an quelloffener Software ist GitHub sehr populär.\n",
    "Ein par Zahlen vom August 2015:\n",
    "> + über 10 Millionen Nutzer\n",
    "+ 26,3 Millionen Repository's\n",
    "\n",
    "Ein weiteres Feature von GitHub bietet an sein Repository mit einer GitHub Website zu verknüpfen. Ein Beispiel wäre: Butter Knife - *Field and method binding for Android views* [[1](#Referenzen)] [[6](#Referenzen)]"
   ]
  },
  {
   "cell_type": "markdown",
   "metadata": {},
   "source": [
    "## GitHub Mining - was bedeutet das eigentlich?"
   ]
  },
  {
   "cell_type": "markdown",
   "metadata": {},
   "source": [
    "Das Wort **`Mining`** ist laut meiner Interpretation in dieser Ausarbeitung in zwei Gebieten einteilbar und muss für diese Ausarbeitung auch in beiden Gebieten angewendet werden. \n",
    "\n",
    "In dem ersten Gebiet geht es um die Datenbeschaffung über eine von GitHub bereitgestellte API. Das zweite Gebiet ist dann die Datenanalyse (Data Mining). Ich habe die Ausarbeitungdemnach in diese zwei Gebiete eingeteilt, weil unter dem Begriff `Data Mining` welcher das Wort Mining (engl.: mining = beschaffen, graben, ...) enthält, eigentlich nur das Auswerten von bereits vorhandenen Daten verstanden wird. Folglich hat Data Mining mit dem Beschaffen von Daten nicht direkt etwas zu tun."
   ]
  },
  {
   "cell_type": "markdown",
   "metadata": {},
   "source": [
    "## Die GitHub API - die Datenquelle"
   ]
  },
  {
   "cell_type": "markdown",
   "metadata": {},
   "source": [
    "Die GitHub API ist bereits in der vierten Version. Mit der Version 4 der API von GitHub hat auch eine neue Technologie Einzug gehalten. GitbHub hat bisher auf eine REST API gestzte. Die Version 4 ist jetzt aber eine GraphQL API.\n",
    "Der API Endpoint ist : `https://api.github.com/graphql`\n",
    "\n",
    "> Eine Einführung zu GraphQL gibt es [hier](https://developer.github.com/v4/guides/intro-to-graphql/)  \n",
    "> Einen Step-by-Step Guide für API Calls finden wir [hier](https://developer.github.com/v4/guides/forming-calls/)\n",
    "\n",
    "Die Version 3 wäre zwar noch erreichbar, aber aufgrund der Tatsache das mir die Möglichkeit gegeben wird im Rahmen dieses Seminars an der Hochschule Ulm eine *neue Technologie* zu nutzen, werden wir im nun folgendem Praxisteil die Version 4, ergo GraphQL API einsetzen um die Daten von GitHub zu erhalten. Schlussendlich füre ich GitHub Mining in zwei Phasen (eine Phase beschreibt ein Gebiet) durch:\n",
    "- Phase 1 - Daten beschaffen\n",
    "- Phase 2 - Daten auswerten  \n",
    "\n"
   ]
  },
  {
   "cell_type": "markdown",
   "metadata": {},
   "source": [
    "## GraphQL - was ist das?"
   ]
  },
  {
   "cell_type": "markdown",
   "metadata": {},
   "source": [
    "**GraphQL** ist eine Abfragesprache für Datenbanken und wurde von Facebook im Jahr 2012 intern entwickelt. Erst 2015 gabe es ein öffentliches Release von GraphQL. Das besondere ist, das der Client die Daten genau so empfängt wie er sie anfrägt. Somit sind die Probleme des *over-fetching* bzw des *under-fetching* nicht mehr vorhanden. [[7](#Referenzen)]"
   ]
  },
  {
   "cell_type": "markdown",
   "metadata": {},
   "source": [
    "### Queries"
   ]
  },
  {
   "cell_type": "markdown",
   "metadata": {},
   "source": [
    "Die Queries bei GraphQL sind *\"objektorientiert\"* aufgebaut. Dies bedeutet, das wenn wir eine JSON-Struktur bei der Abfrage haben. Dies führt darauf hinaus, das der Request gleich wie der Respond aussieht.[[4]('Referenzen)] Das folgende Bild zweigt links den Request und rechts der Respond.\n",
    "\n",
    "![Bild](images/graphquery.png)"
   ]
  },
  {
   "cell_type": "markdown",
   "metadata": {},
   "source": [
    "### Mutations"
   ]
  },
  {
   "cell_type": "markdown",
   "metadata": {},
   "source": [
    "Der Fokus von GraphQL konzentriert sich auf das abfragen von Daten. Aber wie jede vollständige Datenplattform benötigt es auch die Funktion, serverseitige Daten zu manipulieren. Was bei `REST` durch eine `POST/PUT/PATCH/DELETE`-Anfrage erledigt wird, macht GraphQL mit sogenannten Mutationen. [[4](#Referenzen)]"
   ]
  },
  {
   "cell_type": "markdown",
   "metadata": {},
   "source": [
    "-----"
   ]
  },
  {
   "cell_type": "markdown",
   "metadata": {},
   "source": [
    "### Phase 1 - Daten beschaffen"
   ]
  },
  {
   "cell_type": "markdown",
   "metadata": {},
   "source": [
    "Um die API nutzen zu Können, benötigen wir einen persönlichen Zugriffstoken. \n",
    "Dieses Token erstellen wir in wenigen Schritten:\n",
    "    1. Öffne das Menü über einen Klick auf deinen Avatar rechts oben\n",
    "    2. Wähle den Eintrag `Settings` aus\n",
    "    3. Dort wählst du den Punkt `Developer settings` aus.\n",
    "    4. Nun auf `Personal access tokens`\n",
    "    5. Rechts oben ein neues Token generieren\n",
    "    6. Ausfüllen wie im Screenshot unten zu sehen und auf `Generate`.\n",
    "    7. Wichtig: Der nun angezeigte Hashwert ist das Token. Diesen unbedingt notieren/ abspeichern.\n",
    "    \n",
    "![Scope Accesstoken](images/accesstoken_scope.png)"
   ]
  },
  {
   "cell_type": "markdown",
   "metadata": {},
   "source": [
    "> Wie man ein Token erstellt nochmals zum nachlesen [hier](https://help.github.com/articles/creating-a-personal-access-token-for-the-command-line/)."
   ]
  },
  {
   "cell_type": "markdown",
   "metadata": {},
   "source": [
    "Importieren der benötigten Bibliotheken."
   ]
  },
  {
   "cell_type": "code",
   "execution_count": 1,
   "metadata": {
    "collapsed": true
   },
   "outputs": [],
   "source": [
    "import requests # um requests an einen Web Endpoint zu senden\n",
    "from pprint import pprint #um JSON schöner darzustellen\n",
    "import json #zum JSON encoden\n",
    "import csv #zum generieren des csv-File"
   ]
  },
  {
   "cell_type": "markdown",
   "metadata": {},
   "source": [
    "Wir testen nun das generierte Token. Dazu fragen wir einfach ein paar Informationen zu unserem Nutzer ab:\n",
    "> generierte Token =  a24f923c57dbc434567e0990bd071c153d8fef2e"
   ]
  },
  {
   "cell_type": "code",
   "execution_count": 2,
   "metadata": {},
   "outputs": [
    {
     "name": "stdout",
     "output_type": "stream",
     "text": [
      "<Response [200]>\n",
      "{\"data\":{\"viewer\":{\"login\":\"datasienceelmo\",\"name\":\"E.Lmo\",\"bio\":\"Rohdaten sind geil!!\",\"company\":\"Hochschule Ulm\",\"location\":\"Ulm\"}}}\n",
      "{'data': {'viewer': {'bio': 'Rohdaten sind geil!!',\n",
      "                     'company': 'Hochschule Ulm',\n",
      "                     'location': 'Ulm',\n",
      "                     'login': 'datasienceelmo',\n",
      "                     'name': 'E.Lmo'}}}\n"
     ]
    }
   ],
   "source": [
    "url = 'https://api.github.com/graphql'\n",
    "request = { \"query\" : \"\"\"query {\n",
    "  viewer {\n",
    "    login\n",
    "    name\n",
    "    bio\n",
    "    company\n",
    "    location\n",
    "  }\n",
    "}\"\"\" \n",
    "        }\n",
    "token = \"a24f923c57dbc434567e0990bd071c153d8fef2e\"\n",
    "headers = {'Authorization': 'token %s' % token}\n",
    "\n",
    "response = requests.post(url=url, json=request, headers=headers) # just Response Code\n",
    "\n",
    "#Drei verschiedene Arten sich das Ergebnis anzeigen zu lassen\n",
    "print (response) # Response Code\n",
    "print (response.text) # Response als Text\n",
    "pprint(response.json()) # Response mit .json()"
   ]
  },
  {
   "cell_type": "markdown",
   "metadata": {},
   "source": [
    "Für die weiteren Verlauf des Praxisteils verwende ich, um unnötige Schreibarbeit zu sparen, diese Funktion, welche mir Request's erstellt und den Respond in JSON-Form zurück gibt."
   ]
  },
  {
   "cell_type": "code",
   "execution_count": 3,
   "metadata": {
    "collapsed": true
   },
   "outputs": [],
   "source": [
    "def run_query(query): \n",
    "    request = requests.post('https://api.github.com/graphql', json={'query': query}, headers=headers)\n",
    "    if request.status_code == 200: #Abfrage war erfolgreich Responsecode == 200\n",
    "        return request.json()\n",
    "    else:\n",
    "        raise Exception(\"Query failed to run by returning code of {}. {}\".format(request.status_code, query))"
   ]
  },
  {
   "cell_type": "markdown",
   "metadata": {},
   "source": [
    "Als nächstes wollen wir das sogenannte **Rate Limit** in Erfahrung bringen. "
   ]
  },
  {
   "cell_type": "code",
   "execution_count": 4,
   "metadata": {
    "collapsed": true
   },
   "outputs": [],
   "source": [
    "query = \"\"\"\n",
    "{\n",
    "  viewer {\n",
    "    login\n",
    "  }\n",
    "  rateLimit {\n",
    "    limit\n",
    "    cost\n",
    "    remaining\n",
    "    resetAt\n",
    "  }\n",
    "}\n",
    "\"\"\" "
   ]
  },
  {
   "cell_type": "markdown",
   "metadata": {},
   "source": [
    "> Durch die run_query()-Methode ist es uns nun möglich die querys zu definieren und einfach an die Methode zu übergeben. Dadurch erledigt sich die ständige Schreibarbeit, welche ohne run_query()-Methode zu erledigen wäre. \n",
    "Durch pprint() lässt sich das ganze in einem erträglichen JSON-Format ausgeben."
   ]
  },
  {
   "cell_type": "code",
   "execution_count": 5,
   "metadata": {},
   "outputs": [
    {
     "name": "stdout",
     "output_type": "stream",
     "text": [
      "Ausgabe mit print()\n",
      "{'data': {'viewer': {'login': 'datasienceelmo'}, 'rateLimit': {'limit': 5000, 'cost': 1, 'remaining': 4984, 'resetAt': '2018-01-10T18:50:07Z'}}}\n",
      "\n",
      "\n",
      "Ausgabe mit pprint()\n",
      "{'data': {'rateLimit': {'cost': 1,\n",
      "                        'limit': 5000,\n",
      "                        'remaining': 4984,\n",
      "                        'resetAt': '2018-01-10T18:50:07Z'},\n",
      "          'viewer': {'login': 'datasienceelmo'}}}\n"
     ]
    }
   ],
   "source": [
    "result = run_query(query)\n",
    "print (\"Ausgabe mit print()\")\n",
    "print(result)\n",
    "print (\"\\n\")\n",
    "print (\"Ausgabe mit pprint()\")\n",
    "pprint(result)"
   ]
  },
  {
   "cell_type": "code",
   "execution_count": 6,
   "metadata": {},
   "outputs": [
    {
     "name": "stdout",
     "output_type": "stream",
     "text": [
      "Remaining rate limit - 4984\n"
     ]
    }
   ],
   "source": [
    "remaining_rate_limit = result[\"data\"][\"rateLimit\"][\"remaining\"]\n",
    "print(\"Remaining rate limit - {}\".format(remaining_rate_limit))"
   ]
  },
  {
   "cell_type": "markdown",
   "metadata": {},
   "source": [
    "Wie bei jeder öffentlich zugänglichen API gibt es eine bestimmte Anzahl an Calls, welche man an die API schicken darf (meist abhängig der Zeit). Bei der REST API von GitHub betrug die Menge der Calls 5000/pro Stunde. Bei der GraphQL API wird aber mit **Points** gerechnet. Dies geschieht weil ein GraphQL Call mehrere REST Calls ersetzt. Um das auszutarieren, werden für die verschiedenen Calls verschieden viele Punkte berechnet und abgezogen. Aktuell hat man ein Limit von 5000 Punkte pro Stunde."
   ]
  },
  {
   "cell_type": "markdown",
   "metadata": {},
   "source": [
    "Um die 5000 Punkte auch zu Nutzen gehen wir nun dazu über einen etwas \"geschäftigeren\" Account zu durchforsten. Dazu verwende ich den oben bereits in Erscheinung getretenen [Account](https://github.com/JakeWharton) von `Jake Wharton`.\n",
    "\n",
    "##### Mit wem haben wir es zu tun?\n",
    "\n",
    "+ Account erstellt am?\n",
    "+ avatar\n",
    "+ Name\n",
    "+ Bio\n",
    "+ Seiten Admin?\n",
    "+ Standort\n",
    "+ Arbeitgeber\n",
    "+ arbeitet für GitHub?\n",
    "+ ist im Campus Experts Program?\n",
    "+ hat er eine Website?"
   ]
  },
  {
   "cell_type": "code",
   "execution_count": 7,
   "metadata": {},
   "outputs": [
    {
     "name": "stdout",
     "output_type": "stream",
     "text": [
      "{'data': {'user': {'avatarUrl': 'https://avatars0.githubusercontent.com/u/66577?v=4',\n",
      "                   'bio': '',\n",
      "                   'company': 'Google, Inc.',\n",
      "                   'createdAt': '2009-03-24T16:09:53Z',\n",
      "                   'isCampusExpert': False,\n",
      "                   'isEmployee': False,\n",
      "                   'isSiteAdmin': False,\n",
      "                   'location': 'Pittsburgh, PA, USA',\n",
      "                   'name': 'Jake Wharton',\n",
      "                   'websiteUrl': 'http://jakewharton.com'}}}\n"
     ]
    }
   ],
   "source": [
    "query =\"\"\"{\n",
    "  user(login:\"JakeWharton\") {\n",
    "    createdAt\n",
    "    avatarUrl\n",
    "    name\n",
    "    bio\n",
    "    isSiteAdmin\n",
    "    location\n",
    "    company\n",
    "    isEmployee\n",
    "    isCampusExpert\n",
    "    websiteUrl\n",
    "  }\n",
    "}\"\"\"\n",
    "\n",
    "pprint(run_query(query))"
   ]
  },
  {
   "cell_type": "markdown",
   "metadata": {},
   "source": [
    "![Jake](https://avatars0.githubusercontent.com/u/66577?v=4)"
   ]
  },
  {
   "cell_type": "markdown",
   "metadata": {},
   "source": [
    "Wir werfen einen genaueren Blick auf das Repository: *butterknife*"
   ]
  },
  {
   "cell_type": "code",
   "execution_count": 8,
   "metadata": {
    "collapsed": true
   },
   "outputs": [],
   "source": [
    "query =\"\"\"query {\n",
    "  repository(owner:\"JakeWharton\", name:\"butterknife\") {\n",
    "    url\n",
    "    stargazers(last:10) {\n",
    "      totalCount\n",
    "      edges {\n",
    "        node {\n",
    "          name\n",
    "          url\n",
    "        }\n",
    "      }\n",
    "    }\n",
    "  }\n",
    "}\n",
    "\"\"\""
   ]
  },
  {
   "cell_type": "code",
   "execution_count": 9,
   "metadata": {},
   "outputs": [
    {
     "name": "stdout",
     "output_type": "stream",
     "text": [
      "{'data': {'repository': {'stargazers': {'edges': [{'node': {'name': None,\n",
      "                                                            'url': 'https://github.com/cs9420'}},\n",
      "                                                  {'node': {'name': '黄永龙',\n",
      "                                                            'url': 'https://github.com/leynewlong'}},\n",
      "                                                  {'node': {'name': 'Sebastian '\n",
      "                                                                    'J. '\n",
      "                                                                    'Garbarek',\n",
      "                                                            'url': 'https://github.com/sebastiangarbarek'}},\n",
      "                                                  {'node': {'name': None,\n",
      "                                                            'url': 'https://github.com/gxfan'}},\n",
      "                                                  {'node': {'name': 'Luan '\n",
      "                                                                    'Couto',\n",
      "                                                            'url': 'https://github.com/luancouto'}},\n",
      "                                                  {'node': {'name': 'David '\n",
      "                                                                    'Artmann',\n",
      "                                                            'url': 'https://github.com/dartmann'}},\n",
      "                                                  {'node': {'name': '聪威',\n",
      "                                                            'url': 'https://github.com/thatnight'}},\n",
      "                                                  {'node': {'name': 'prk powar',\n",
      "                                                            'url': 'https://github.com/prkpowar'}},\n",
      "                                                  {'node': {'name': 'JulyYu',\n",
      "                                                            'url': 'https://github.com/yuhaocan'}},\n",
      "                                                  {'node': {'name': '',\n",
      "                                                            'url': 'https://github.com/riven-du'}}],\n",
      "                                        'totalCount': 19704},\n",
      "                         'url': 'https://github.com/JakeWharton/butterknife'}}}\n"
     ]
    }
   ],
   "source": [
    "result = run_query(query)\n",
    "pprint(result)"
   ]
  },
  {
   "cell_type": "markdown",
   "metadata": {},
   "source": [
    "> Wie wir anhand unseres Ergebnisses sehen können, hat das Repository insgesamt 19646 Stargazers (Likes). Die letzten zehn stargazers werden ausgegeben. Und falls man mal die Url zum Repository vergessen hat, habe ich diese auch nochmals angefragt."
   ]
  },
  {
   "cell_type": "markdown",
   "metadata": {},
   "source": [
    "##### Generieren eines Datensatzes um diesen dann lokal nutzen könnte ."
   ]
  },
  {
   "cell_type": "code",
   "execution_count": 10,
   "metadata": {
    "collapsed": true,
    "scrolled": true
   },
   "outputs": [],
   "source": [
    "query=\"\"\"{\n",
    "  user(login:\"JakeWharton\"){\n",
    "      repositories(first:){\n",
    "      nodes{\n",
    "          nameWithOwner\n",
    "          createdAt\n",
    "          forkCount\n",
    "          isFork\n",
    "          }\n",
    "      }\n",
    "  }\n",
    "}\"\"\""
   ]
  },
  {
   "cell_type": "code",
   "execution_count": 11,
   "metadata": {},
   "outputs": [
    {
     "name": "stdout",
     "output_type": "stream",
     "text": [
      "{'data': {'user': {'repositories': {'nodes': [{'createdAt': '2009-03-27T03:26:46Z',\n",
      "                                               'forkCount': 17,\n",
      "                                               'isFork': False,\n",
      "                                               'nameWithOwner': 'JakeWharton/SMSMorse'},\n",
      "                                              {'createdAt': '2009-03-27T03:35:57Z',\n",
      "                                               'forkCount': 50,\n",
      "                                               'isFork': False,\n",
      "                                               'nameWithOwner': 'JakeWharton/mkvdts2ac3'},\n",
      "                                              {'createdAt': '2009-03-31T22:18:32Z',\n",
      "                                               'forkCount': 27,\n",
      "                                               'isFork': False,\n",
      "                                               'nameWithOwner': 'JakeWharton/SMSBarrage'},\n",
      "                                              {'createdAt': '2009-05-14T05:42:39Z',\n",
      "                                               'forkCount': 36,\n",
      "                                               'isFork': False,\n",
      "                                               'nameWithOwner': 'Knio/dominate'},\n",
      "                                              {'createdAt': '2009-05-20T05:45:47Z',\n",
      "                                               'forkCount': 0,\n",
      "                                               'isFork': False,\n",
      "                                               'nameWithOwner': 'Knio/scenerename'},\n",
      "                                              {'createdAt': '2009-07-12T02:27:19Z',\n",
      "                                               'forkCount': 0,\n",
      "                                               'isFork': False,\n",
      "                                               'nameWithOwner': 'JakeWharton/is_awesome'},\n",
      "                                              {'createdAt': '2010-02-23T04:34:27Z',\n",
      "                                               'forkCount': 26,\n",
      "                                               'isFork': False,\n",
      "                                               'nameWithOwner': 'JakeWharton/py-videodownloader'},\n",
      "                                              {'createdAt': '2010-07-07T23:41:20Z',\n",
      "                                               'forkCount': 8,\n",
      "                                               'isFork': False,\n",
      "                                               'nameWithOwner': 'JakeWharton/WakkaWallpaper'},\n",
      "                                              {'createdAt': '2010-08-24T15:08:32Z',\n",
      "                                               'forkCount': 10,\n",
      "                                               'isFork': False,\n",
      "                                               'nameWithOwner': 'JakeWharton/SnakeWallpaper'},\n",
      "                                              {'createdAt': '2010-08-28T04:13:34Z',\n",
      "                                               'forkCount': 6,\n",
      "                                               'isFork': False,\n",
      "                                               'nameWithOwner': 'JakeWharton/BreakoutWallpaper'},\n",
      "                                              {'createdAt': '2010-09-06T21:39:43Z',\n",
      "                                               'forkCount': 5120,\n",
      "                                               'isFork': False,\n",
      "                                               'nameWithOwner': 'square/retrofit'},\n",
      "                                              {'createdAt': '2010-09-07T04:13:49Z',\n",
      "                                               'forkCount': 18,\n",
      "                                               'isFork': False,\n",
      "                                               'nameWithOwner': 'JakeWharton/TronWallpaper'},\n",
      "                                              {'createdAt': '2010-10-19T23:44:55Z',\n",
      "                                               'forkCount': 0,\n",
      "                                               'isFork': False,\n",
      "                                               'nameWithOwner': 'JakeWharton/guiceymongo-generator-maven-plugin'},\n",
      "                                              {'createdAt': '2011-03-07T17:28:54Z',\n",
      "                                               'forkCount': 3977,\n",
      "                                               'isFork': False,\n",
      "                                               'nameWithOwner': 'JakeWharton/ActionBarSherlock'},\n",
      "                                              {'createdAt': '2011-03-24T04:48:11Z',\n",
      "                                               'forkCount': 7,\n",
      "                                               'isFork': False,\n",
      "                                               'nameWithOwner': 'JakeWharton/pingdom-java'},\n",
      "                                              {'createdAt': '2011-03-30T04:27:43Z',\n",
      "                                               'forkCount': 8,\n",
      "                                               'isFork': False,\n",
      "                                               'nameWithOwner': 'JakeWharton/apibuilder'},\n",
      "                                              {'createdAt': '2011-03-31T04:29:38Z',\n",
      "                                               'forkCount': 37,\n",
      "                                               'isFork': False,\n",
      "                                               'nameWithOwner': 'JakeWharton/trakt-java'},\n",
      "                                              {'createdAt': '2011-04-16T01:03:02Z',\n",
      "                                               'forkCount': 2,\n",
      "                                               'isFork': False,\n",
      "                                               'nameWithOwner': 'JakeWharton/github-deploy-maven-plugin'},\n",
      "                                              {'createdAt': '2011-04-19T20:22:14Z',\n",
      "                                               'forkCount': 0,\n",
      "                                               'isFork': False,\n",
      "                                               'nameWithOwner': 'JakeWharton/myp2p-boxee-app'},\n",
      "                                              {'createdAt': '2011-04-24T17:42:34Z',\n",
      "                                               'forkCount': 2,\n",
      "                                               'isFork': False,\n",
      "                                               'nameWithOwner': 'JakeWharton/domainr-java'},\n",
      "                                              {'createdAt': '2011-05-02T23:06:48Z',\n",
      "                                               'forkCount': 6,\n",
      "                                               'isFork': False,\n",
      "                                               'nameWithOwner': 'JakeWharton/uglify-js-middleware'},\n",
      "                                              {'createdAt': '2011-08-01T04:32:49Z',\n",
      "                                               'forkCount': 14,\n",
      "                                               'isFork': False,\n",
      "                                               'nameWithOwner': 'JakeWharton/Android-MapForgeFragment'},\n",
      "                                              {'createdAt': '2011-08-04T17:13:44Z',\n",
      "                                               'forkCount': 4298,\n",
      "                                               'isFork': False,\n",
      "                                               'nameWithOwner': 'JakeWharton/ViewPagerIndicator'},\n",
      "                                              {'createdAt': '2011-08-24T20:44:21Z',\n",
      "                                               'forkCount': 443,\n",
      "                                               'isFork': False,\n",
      "                                               'nameWithOwner': 'JakeWharton/Android-DirectionalViewPager'},\n",
      "                                              {'createdAt': '2011-09-02T21:45:06Z',\n",
      "                                               'forkCount': 2,\n",
      "                                               'isFork': False,\n",
      "                                               'nameWithOwner': 'Knio/dominate.js'},\n",
      "                                              {'createdAt': '2011-10-22T22:57:53Z',\n",
      "                                               'forkCount': 2,\n",
      "                                               'isFork': False,\n",
      "                                               'nameWithOwner': 'JakeWharton/DocBrown'},\n",
      "                                              {'createdAt': '2011-10-25T14:59:44Z',\n",
      "                                               'forkCount': 2,\n",
      "                                               'isFork': False,\n",
      "                                               'nameWithOwner': 'JakeWharton/untappd-java'},\n",
      "                                              {'createdAt': '2011-12-08T19:46:37Z',\n",
      "                                               'forkCount': 1673,\n",
      "                                               'isFork': False,\n",
      "                                               'nameWithOwner': 'JakeWharton/NineOldAndroids'},\n",
      "                                              {'createdAt': '2011-12-20T06:17:56Z',\n",
      "                                               'forkCount': 1,\n",
      "                                               'isFork': False,\n",
      "                                               'nameWithOwner': 'JakeWharton/heroku-java'},\n",
      "                                              {'createdAt': '2011-12-24T07:45:02Z',\n",
      "                                               'forkCount': 60,\n",
      "                                               'isFork': False,\n",
      "                                               'nameWithOwner': 'JakeWharton/HanselAndGretel'},\n",
      "                                              {'createdAt': '2011-12-29T18:02:34Z',\n",
      "                                               'forkCount': 1,\n",
      "                                               'isFork': False,\n",
      "                                               'nameWithOwner': 'JakeWharton/abs.io'},\n",
      "                                              {'createdAt': '2012-01-05T00:36:34Z',\n",
      "                                               'forkCount': 965,\n",
      "                                               'isFork': False,\n",
      "                                               'nameWithOwner': 'JakeWharton/DiskLruCache'},\n",
      "                                              {'createdAt': '2012-01-11T15:18:17Z',\n",
      "                                               'forkCount': 0,\n",
      "                                               'isFork': False,\n",
      "                                               'nameWithOwner': 'JakeWharton/lessres'},\n",
      "                                              {'createdAt': '2012-01-12T04:55:38Z',\n",
      "                                               'forkCount': 12,\n",
      "                                               'isFork': False,\n",
      "                                               'nameWithOwner': 'JakeWharton/jakewharton.com'},\n",
      "                                              {'createdAt': '2012-02-17T19:31:35Z',\n",
      "                                               'forkCount': 43,\n",
      "                                               'isFork': False,\n",
      "                                               'nameWithOwner': 'JakeWharton/ActionBarSherlock-Plugin-Maps'},\n",
      "                                              {'createdAt': '2012-05-06T09:46:05Z',\n",
      "                                               'forkCount': 7,\n",
      "                                               'isFork': False,\n",
      "                                               'nameWithOwner': 'JakeWharton/AndroidDesignKeynoteTheme'},\n",
      "                                              {'createdAt': '2012-05-07T06:48:28Z',\n",
      "                                               'forkCount': 4,\n",
      "                                               'isFork': False,\n",
      "                                               'nameWithOwner': 'JakeWharton/WritingAgileAPKs'},\n",
      "                                              {'createdAt': '2012-06-24T08:59:44Z',\n",
      "                                               'forkCount': 133,\n",
      "                                               'isFork': False,\n",
      "                                               'nameWithOwner': 'JakeWharton/SwipeToDismissNOA'},\n",
      "                                              {'createdAt': '2012-06-27T19:06:49Z',\n",
      "                                               'forkCount': 901,\n",
      "                                               'isFork': False,\n",
      "                                               'nameWithOwner': 'square/otto'},\n",
      "                                              {'createdAt': '2012-07-02T05:28:02Z',\n",
      "                                               'forkCount': 22,\n",
      "                                               'isFork': False,\n",
      "                                               'nameWithOwner': 'JakeWharton/NotificationCompat2'},\n",
      "                                              {'createdAt': '2012-07-06T20:00:58Z',\n",
      "                                               'forkCount': 10,\n",
      "                                               'isFork': False,\n",
      "                                               'nameWithOwner': 'JakeWharton/ActivityCompat2'},\n",
      "                                              {'createdAt': '2012-07-17T18:06:03Z',\n",
      "                                               'forkCount': 74,\n",
      "                                               'isFork': False,\n",
      "                                               'nameWithOwner': 'square/pollexor'},\n",
      "                                              {'createdAt': '2012-07-23T13:42:55Z',\n",
      "                                               'forkCount': 5772,\n",
      "                                               'isFork': False,\n",
      "                                               'nameWithOwner': 'square/okhttp'},\n",
      "                                              {'createdAt': '2012-08-02T23:25:32Z',\n",
      "                                               'forkCount': 2193,\n",
      "                                               'isFork': False,\n",
      "                                               'nameWithOwner': 'square/dagger'},\n",
      "                                              {'createdAt': '2012-09-06T03:24:10Z',\n",
      "                                               'forkCount': 141,\n",
      "                                               'isFork': False,\n",
      "                                               'nameWithOwner': 'square/seismic'},\n",
      "                                              {'createdAt': '2012-09-10T06:18:49Z',\n",
      "                                               'forkCount': 260,\n",
      "                                               'isFork': False,\n",
      "                                               'nameWithOwner': 'square/tape'},\n",
      "                                              {'createdAt': '2012-10-11T21:34:18Z',\n",
      "                                               'forkCount': 5,\n",
      "                                               'isFork': False,\n",
      "                                               'nameWithOwner': 'JakeWharton/EffectiveOpenSource'},\n",
      "                                              {'createdAt': '2013-01-17T18:51:30Z',\n",
      "                                               'forkCount': 169,\n",
      "                                               'isFork': False,\n",
      "                                               'nameWithOwner': 'square/assertj-android'},\n",
      "                                              {'createdAt': '2013-01-18T16:58:38Z',\n",
      "                                               'forkCount': 4,\n",
      "                                               'isFork': False,\n",
      "                                               'nameWithOwner': 'JakeWharton/jquery-maven-artifact'},\n",
      "                                              {'createdAt': '2013-01-23T00:29:36Z',\n",
      "                                               'forkCount': 443,\n",
      "                                               'isFork': False,\n",
      "                                               'nameWithOwner': 'square/spoon'},\n",
      "                                              {'createdAt': '2013-01-30T20:28:27Z',\n",
      "                                               'forkCount': 1169,\n",
      "                                               'isFork': False,\n",
      "                                               'nameWithOwner': 'square/android-times-square'},\n",
      "                                              {'createdAt': '2013-02-01T16:24:32Z',\n",
      "                                               'forkCount': 29,\n",
      "                                               'isFork': False,\n",
      "                                               'nameWithOwner': 'square/protoparser'},\n",
      "                                              {'createdAt': '2013-02-01T16:56:30Z',\n",
      "                                               'forkCount': 587,\n",
      "                                               'isFork': False,\n",
      "                                               'nameWithOwner': 'square/javapoet'},\n",
      "                                              {'createdAt': '2013-02-26T20:52:54Z',\n",
      "                                               'forkCount': 30,\n",
      "                                               'isFork': False,\n",
      "                                               'nameWithOwner': 'JakeWharton/gms-mvn-install'},\n",
      "                                              {'createdAt': '2013-03-05T08:18:59Z',\n",
      "                                               'forkCount': 3944,\n",
      "                                               'isFork': False,\n",
      "                                               'nameWithOwner': 'JakeWharton/butterknife'},\n",
      "                                              {'createdAt': '2013-03-06T06:20:55Z',\n",
      "                                               'forkCount': 7,\n",
      "                                               'isFork': False,\n",
      "                                               'nameWithOwner': 'JakeWharton/snooker'},\n",
      "                                              {'createdAt': '2013-03-06T08:54:56Z',\n",
      "                                               'forkCount': 129,\n",
      "                                               'isFork': False,\n",
      "                                               'nameWithOwner': 'JakeWharton/salvage'},\n",
      "                                              {'createdAt': '2013-03-19T23:37:58Z',\n",
      "                                               'forkCount': 14,\n",
      "                                               'isFork': False,\n",
      "                                               'nameWithOwner': 'square/jirafy'},\n",
      "                                              {'createdAt': '2013-04-03T16:02:16Z',\n",
      "                                               'forkCount': 34,\n",
      "                                               'isFork': False,\n",
      "                                               'nameWithOwner': 'JakeWharton/adjacent-fragment-pager-sample'},\n",
      "                                              {'createdAt': '2013-04-11T21:44:31Z',\n",
      "                                               'forkCount': 599,\n",
      "                                               'isFork': False,\n",
      "                                               'nameWithOwner': 'square/java-code-styles'},\n",
      "                                              {'createdAt': '2013-05-05T05:48:46Z',\n",
      "                                               'forkCount': 32,\n",
      "                                               'isFork': False,\n",
      "                                               'nameWithOwner': 'square/mimecraft'},\n",
      "                                              {'createdAt': '2013-05-10T16:02:30Z',\n",
      "                                               'forkCount': 41,\n",
      "                                               'isFork': False,\n",
      "                                               'nameWithOwner': 'square/dagger-intellij-plugin'},\n",
      "                                              {'createdAt': '2013-05-10T16:04:51Z',\n",
      "                                               'forkCount': 46,\n",
      "                                               'isFork': False,\n",
      "                                               'nameWithOwner': 'square/otto-intellij-plugin'},\n",
      "                                              {'createdAt': '2013-05-14T15:07:47Z',\n",
      "                                               'forkCount': 3744,\n",
      "                                               'isFork': False,\n",
      "                                               'nameWithOwner': 'square/picasso'},\n",
      "                                              {'createdAt': '2013-06-12T05:59:37Z',\n",
      "                                               'forkCount': 369,\n",
      "                                               'isFork': False,\n",
      "                                               'nameWithOwner': 'JakeWharton/pidcat'},\n",
      "                                              {'createdAt': '2013-07-18T06:23:33Z',\n",
      "                                               'forkCount': 529,\n",
      "                                               'isFork': False,\n",
      "                                               'nameWithOwner': 'JakeWharton/timber'},\n",
      "                                              {'createdAt': '2013-07-28T11:19:58Z',\n",
      "                                               'forkCount': 15,\n",
      "                                               'isFork': False,\n",
      "                                               'nameWithOwner': 'JakeWharton/ActionBarSherlock-Gradle-Sample'},\n",
      "                                              {'createdAt': '2013-08-12T22:18:43Z',\n",
      "                                               'forkCount': 57,\n",
      "                                               'isFork': False,\n",
      "                                               'nameWithOwner': 'JakeWharton/gradle-android-test-plugin'},\n",
      "                                              {'createdAt': '2013-08-21T15:45:47Z',\n",
      "                                               'forkCount': 303,\n",
      "                                               'isFork': False,\n",
      "                                               'nameWithOwner': 'square/wire'},\n",
      "                                              {'createdAt': '2013-10-08T04:03:50Z',\n",
      "                                               'forkCount': 2,\n",
      "                                               'isFork': False,\n",
      "                                               'nameWithOwner': 'JakeWharton/rebaseandsqua.sh'},\n",
      "                                              {'createdAt': '2013-11-14T11:58:23Z',\n",
      "                                               'forkCount': 959,\n",
      "                                               'isFork': False,\n",
      "                                               'nameWithOwner': 'JakeWharton/u2020'},\n",
      "                                              {'createdAt': '2013-11-25T09:16:40Z',\n",
      "                                               'forkCount': 545,\n",
      "                                               'isFork': False,\n",
      "                                               'nameWithOwner': 'JakeWharton/hugo'},\n",
      "                                              {'createdAt': '2013-12-05T22:50:07Z',\n",
      "                                               'forkCount': 12,\n",
      "                                               'isFork': False,\n",
      "                                               'nameWithOwner': 'JakeWharton/madge'},\n",
      "                                              {'createdAt': '2014-01-06T17:26:01Z',\n",
      "                                               'forkCount': 203,\n",
      "                                               'isFork': False,\n",
      "                                               'nameWithOwner': 'JakeWharton/scalpel'},\n",
      "                                              {'createdAt': '2014-01-22T00:51:50Z',\n",
      "                                               'forkCount': 118,\n",
      "                                               'isFork': False,\n",
      "                                               'nameWithOwner': 'square/phrase'},\n",
      "                                              {'createdAt': '2014-01-27T08:41:27Z',\n",
      "                                               'forkCount': 13,\n",
      "                                               'isFork': False,\n",
      "                                               'nameWithOwner': 'JakeWharton/paraphrase'},\n",
      "                                              {'createdAt': '2014-02-01T09:36:38Z',\n",
      "                                               'forkCount': 41,\n",
      "                                               'isFork': False,\n",
      "                                               'nameWithOwner': 'JakeWharton/double-espresso'},\n",
      "                                              {'createdAt': '2014-02-09T05:08:58Z',\n",
      "                                               'forkCount': 14,\n",
      "                                               'isFork': False,\n",
      "                                               'nameWithOwner': 'square/jna-gmp'},\n",
      "                                              {'createdAt': '2014-02-13T07:29:50Z',\n",
      "                                               'forkCount': 2,\n",
      "                                               'isFork': False,\n",
      "                                               'nameWithOwner': 'JakeWharton/resourcefs'},\n",
      "                                              {'createdAt': '2014-02-25T08:34:27Z',\n",
      "                                               'forkCount': 41,\n",
      "                                               'isFork': False,\n",
      "                                               'nameWithOwner': 'JakeWharton/flip-tables'},\n",
      "                                              {'createdAt': '2014-03-17T00:02:59Z',\n",
      "                                               'forkCount': 736,\n",
      "                                               'isFork': False,\n",
      "                                               'nameWithOwner': 'square/okio'},\n",
      "                                              {'createdAt': '2014-03-29T09:48:51Z',\n",
      "                                               'forkCount': 146,\n",
      "                                               'isFork': False,\n",
      "                                               'nameWithOwner': 'JakeWharton/sdk-manager-plugin'},\n",
      "                                              {'createdAt': '2014-07-07T23:00:14Z',\n",
      "                                               'forkCount': 13,\n",
      "                                               'isFork': False,\n",
      "                                               'nameWithOwner': 'JakeWharton/jardiff'},\n",
      "                                              {'createdAt': '2014-07-20T07:11:52Z',\n",
      "                                               'forkCount': 4,\n",
      "                                               'isFork': False,\n",
      "                                               'nameWithOwner': 'JakeWharton/byteunits'},\n",
      "                                              {'createdAt': '2014-07-25T05:49:13Z',\n",
      "                                               'forkCount': 5,\n",
      "                                               'isFork': False,\n",
      "                                               'nameWithOwner': 'JakeWharton/twirl-maven-plugin'},\n",
      "                                              {'createdAt': '2014-08-09T15:58:42Z',\n",
      "                                               'forkCount': 251,\n",
      "                                               'isFork': False,\n",
      "                                               'nameWithOwner': 'square/moshi'},\n",
      "                                              {'createdAt': '2014-08-13T07:57:20Z',\n",
      "                                               'forkCount': 22,\n",
      "                                               'isFork': False,\n",
      "                                               'nameWithOwner': 'square/pagerduty-incidents'},\n",
      "                                              {'createdAt': '2014-09-09T00:05:42Z',\n",
      "                                               'forkCount': 20,\n",
      "                                               'isFork': False,\n",
      "                                               'nameWithOwner': 'square/burst'},\n",
      "                                              {'createdAt': '2014-10-20T06:05:55Z',\n",
      "                                               'forkCount': 168,\n",
      "                                               'isFork': False,\n",
      "                                               'nameWithOwner': 'JakeWharton/kotterknife'},\n",
      "                                              {'createdAt': '2014-10-22T09:39:53Z',\n",
      "                                               'forkCount': 384,\n",
      "                                               'isFork': False,\n",
      "                                               'nameWithOwner': 'JakeWharton/Telecine'},\n",
      "                                              {'createdAt': '2015-02-19T04:38:37Z',\n",
      "                                               'forkCount': 419,\n",
      "                                               'isFork': False,\n",
      "                                               'nameWithOwner': 'square/sqlbrite'},\n",
      "                                              {'createdAt': '2015-03-10T17:11:02Z',\n",
      "                                               'forkCount': 5,\n",
      "                                               'isFork': False,\n",
      "                                               'nameWithOwner': 'AlecStrong/pizzasort'},\n",
      "                                              {'createdAt': '2015-03-19T18:21:20Z',\n",
      "                                               'forkCount': 2435,\n",
      "                                               'isFork': False,\n",
      "                                               'nameWithOwner': 'google/gson'},\n",
      "                                              {'createdAt': '2015-03-24T04:17:24Z',\n",
      "                                               'forkCount': 725,\n",
      "                                               'isFork': False,\n",
      "                                               'nameWithOwner': 'JakeWharton/RxBinding'},\n",
      "                                              {'createdAt': '2015-04-22T14:29:19Z',\n",
      "                                               'forkCount': 96,\n",
      "                                               'isFork': False,\n",
      "                                               'nameWithOwner': 'square/haha'},\n",
      "                                              {'createdAt': '2015-04-29T23:54:16Z',\n",
      "                                               'forkCount': 2954,\n",
      "                                               'isFork': False,\n",
      "                                               'nameWithOwner': 'square/leakcanary'},\n",
      "                                              {'createdAt': '2015-05-07T04:36:09Z',\n",
      "                                               'forkCount': 21,\n",
      "                                               'isFork': False,\n",
      "                                               'nameWithOwner': 'square/wire-gradle-plugin'},\n",
      "                                              {'createdAt': '2015-05-13T14:58:57Z',\n",
      "                                               'forkCount': 55,\n",
      "                                               'isFork': False,\n",
      "                                               'nameWithOwner': 'rharter/auto-value-parcel'},\n",
      "                                              {'createdAt': '2015-07-03T17:35:09Z',\n",
      "                                               'forkCount': 54,\n",
      "                                               'isFork': False,\n",
      "                                               'nameWithOwner': 'JakeWharton/ThreeTenABP'},\n",
      "                                              {'createdAt': '2015-07-08T05:39:28Z',\n",
      "                                               'forkCount': 58,\n",
      "                                               'isFork': False,\n",
      "                                               'nameWithOwner': 'JakeWharton/ProcessPhoenix'}]}}}}\n"
     ]
    }
   ],
   "source": [
    "pprint(run_query(query))\n",
    "with open('data/data.txt', 'w') as outfile:\n",
    "    json.dump(run_query(query), outfile)"
   ]
  },
  {
   "cell_type": "markdown",
   "metadata": {},
   "source": [
    "> So einfach war es nun die Daten per Request anzufragen und in eine Textdatei zur weiteren Verwendung abzuspeichern."
   ]
  },
  {
   "cell_type": "markdown",
   "metadata": {},
   "source": [
    "##### Erstellen wir nun eine CSV-Datei, um dies hinterher auswerten zu Können."
   ]
  },
  {
   "cell_type": "code",
   "execution_count": 12,
   "metadata": {},
   "outputs": [
    {
     "name": "stdout",
     "output_type": "stream",
     "text": [
      "CSV erlogreich erstellt!\n"
     ]
    }
   ],
   "source": [
    "import copy #allows deep copy\n",
    "\n",
    "result = run_query(query)\n",
    "\n",
    "i_dict = result\n",
    "\n",
    "wt_csv = copy.deepcopy(i_dict['data']['user']['repositories']['nodes'])\n",
    "\n",
    "with open('data/dataJake.csv', 'w') as output_file:\n",
    "    dict_writer = csv.DictWriter(output_file, fieldnames=list(wt_csv[0].keys()))\n",
    "    dict_writer.writeheader()\n",
    "    dict_writer.writerows(wt_csv)\n",
    "    \n",
    "print(\"CSV erlogreich erstellt!\")"
   ]
  },
  {
   "cell_type": "markdown",
   "metadata": {},
   "source": [
    "> Nun haben wir einen Datensatz mit dem wir ein wenig herumspielen können."
   ]
  },
  {
   "cell_type": "markdown",
   "metadata": {},
   "source": [
    "Zum \"Auswerten\" der Daten greifen wir auf pandas zurück "
   ]
  },
  {
   "cell_type": "code",
   "execution_count": 13,
   "metadata": {
    "collapsed": true
   },
   "outputs": [],
   "source": [
    "#importiern von pandas\n",
    "import pandas as pd"
   ]
  },
  {
   "cell_type": "code",
   "execution_count": 14,
   "metadata": {},
   "outputs": [
    {
     "data": {
      "text/html": [
       "<div>\n",
       "<style scoped>\n",
       "    .dataframe tbody tr th:only-of-type {\n",
       "        vertical-align: middle;\n",
       "    }\n",
       "\n",
       "    .dataframe tbody tr th {\n",
       "        vertical-align: top;\n",
       "    }\n",
       "\n",
       "    .dataframe thead th {\n",
       "        text-align: right;\n",
       "    }\n",
       "</style>\n",
       "<table border=\"1\" class=\"dataframe\">\n",
       "  <thead>\n",
       "    <tr style=\"text-align: right;\">\n",
       "      <th></th>\n",
       "      <th>nameWithOwner</th>\n",
       "      <th>createdAt</th>\n",
       "      <th>forkCount</th>\n",
       "      <th>isFork</th>\n",
       "    </tr>\n",
       "  </thead>\n",
       "  <tbody>\n",
       "    <tr>\n",
       "      <th>0</th>\n",
       "      <td>JakeWharton/SMSMorse</td>\n",
       "      <td>2009-03-27T03:26:46Z</td>\n",
       "      <td>17</td>\n",
       "      <td>False</td>\n",
       "    </tr>\n",
       "    <tr>\n",
       "      <th>1</th>\n",
       "      <td>JakeWharton/mkvdts2ac3</td>\n",
       "      <td>2009-03-27T03:35:57Z</td>\n",
       "      <td>50</td>\n",
       "      <td>False</td>\n",
       "    </tr>\n",
       "    <tr>\n",
       "      <th>2</th>\n",
       "      <td>JakeWharton/SMSBarrage</td>\n",
       "      <td>2009-03-31T22:18:32Z</td>\n",
       "      <td>27</td>\n",
       "      <td>False</td>\n",
       "    </tr>\n",
       "    <tr>\n",
       "      <th>3</th>\n",
       "      <td>Knio/dominate</td>\n",
       "      <td>2009-05-14T05:42:39Z</td>\n",
       "      <td>36</td>\n",
       "      <td>False</td>\n",
       "    </tr>\n",
       "    <tr>\n",
       "      <th>4</th>\n",
       "      <td>Knio/scenerename</td>\n",
       "      <td>2009-05-20T05:45:47Z</td>\n",
       "      <td>0</td>\n",
       "      <td>False</td>\n",
       "    </tr>\n",
       "    <tr>\n",
       "      <th>5</th>\n",
       "      <td>JakeWharton/is_awesome</td>\n",
       "      <td>2009-07-12T02:27:19Z</td>\n",
       "      <td>0</td>\n",
       "      <td>False</td>\n",
       "    </tr>\n",
       "    <tr>\n",
       "      <th>6</th>\n",
       "      <td>JakeWharton/py-videodownloader</td>\n",
       "      <td>2010-02-23T04:34:27Z</td>\n",
       "      <td>26</td>\n",
       "      <td>False</td>\n",
       "    </tr>\n",
       "    <tr>\n",
       "      <th>7</th>\n",
       "      <td>JakeWharton/WakkaWallpaper</td>\n",
       "      <td>2010-07-07T23:41:20Z</td>\n",
       "      <td>8</td>\n",
       "      <td>False</td>\n",
       "    </tr>\n",
       "    <tr>\n",
       "      <th>8</th>\n",
       "      <td>JakeWharton/SnakeWallpaper</td>\n",
       "      <td>2010-08-24T15:08:32Z</td>\n",
       "      <td>10</td>\n",
       "      <td>False</td>\n",
       "    </tr>\n",
       "    <tr>\n",
       "      <th>9</th>\n",
       "      <td>JakeWharton/BreakoutWallpaper</td>\n",
       "      <td>2010-08-28T04:13:34Z</td>\n",
       "      <td>6</td>\n",
       "      <td>False</td>\n",
       "    </tr>\n",
       "  </tbody>\n",
       "</table>\n",
       "</div>"
      ],
      "text/plain": [
       "                    nameWithOwner             createdAt  forkCount  isFork\n",
       "0            JakeWharton/SMSMorse  2009-03-27T03:26:46Z         17   False\n",
       "1          JakeWharton/mkvdts2ac3  2009-03-27T03:35:57Z         50   False\n",
       "2          JakeWharton/SMSBarrage  2009-03-31T22:18:32Z         27   False\n",
       "3                   Knio/dominate  2009-05-14T05:42:39Z         36   False\n",
       "4                Knio/scenerename  2009-05-20T05:45:47Z          0   False\n",
       "5          JakeWharton/is_awesome  2009-07-12T02:27:19Z          0   False\n",
       "6  JakeWharton/py-videodownloader  2010-02-23T04:34:27Z         26   False\n",
       "7      JakeWharton/WakkaWallpaper  2010-07-07T23:41:20Z          8   False\n",
       "8      JakeWharton/SnakeWallpaper  2010-08-24T15:08:32Z         10   False\n",
       "9   JakeWharton/BreakoutWallpaper  2010-08-28T04:13:34Z          6   False"
      ]
     },
     "execution_count": 14,
     "metadata": {},
     "output_type": "execute_result"
    }
   ],
   "source": [
    "#CSV einlesen\n",
    "repo = pd.read_csv('./data/dataJake.csv')\n",
    "repo.head(10)"
   ]
  },
  {
   "cell_type": "code",
   "execution_count": 15,
   "metadata": {},
   "outputs": [
    {
     "data": {
      "text/html": [
       "<div>\n",
       "<style scoped>\n",
       "    .dataframe tbody tr th:only-of-type {\n",
       "        vertical-align: middle;\n",
       "    }\n",
       "\n",
       "    .dataframe tbody tr th {\n",
       "        vertical-align: top;\n",
       "    }\n",
       "\n",
       "    .dataframe thead th {\n",
       "        text-align: right;\n",
       "    }\n",
       "</style>\n",
       "<table border=\"1\" class=\"dataframe\">\n",
       "  <thead>\n",
       "    <tr style=\"text-align: right;\">\n",
       "      <th></th>\n",
       "      <th>nameWithOwner</th>\n",
       "      <th>forkCount</th>\n",
       "      <th>isFork</th>\n",
       "      <th>year</th>\n",
       "      <th>month</th>\n",
       "      <th>day</th>\n",
       "    </tr>\n",
       "  </thead>\n",
       "  <tbody>\n",
       "    <tr>\n",
       "      <th>0</th>\n",
       "      <td>JakeWharton/SMSMorse</td>\n",
       "      <td>17</td>\n",
       "      <td>False</td>\n",
       "      <td>2009</td>\n",
       "      <td>03</td>\n",
       "      <td>27</td>\n",
       "    </tr>\n",
       "    <tr>\n",
       "      <th>1</th>\n",
       "      <td>JakeWharton/mkvdts2ac3</td>\n",
       "      <td>50</td>\n",
       "      <td>False</td>\n",
       "      <td>2009</td>\n",
       "      <td>03</td>\n",
       "      <td>27</td>\n",
       "    </tr>\n",
       "    <tr>\n",
       "      <th>2</th>\n",
       "      <td>JakeWharton/SMSBarrage</td>\n",
       "      <td>27</td>\n",
       "      <td>False</td>\n",
       "      <td>2009</td>\n",
       "      <td>03</td>\n",
       "      <td>31</td>\n",
       "    </tr>\n",
       "    <tr>\n",
       "      <th>3</th>\n",
       "      <td>Knio/dominate</td>\n",
       "      <td>36</td>\n",
       "      <td>False</td>\n",
       "      <td>2009</td>\n",
       "      <td>05</td>\n",
       "      <td>14</td>\n",
       "    </tr>\n",
       "    <tr>\n",
       "      <th>4</th>\n",
       "      <td>Knio/scenerename</td>\n",
       "      <td>0</td>\n",
       "      <td>False</td>\n",
       "      <td>2009</td>\n",
       "      <td>05</td>\n",
       "      <td>20</td>\n",
       "    </tr>\n",
       "    <tr>\n",
       "      <th>5</th>\n",
       "      <td>JakeWharton/is_awesome</td>\n",
       "      <td>0</td>\n",
       "      <td>False</td>\n",
       "      <td>2009</td>\n",
       "      <td>07</td>\n",
       "      <td>12</td>\n",
       "    </tr>\n",
       "    <tr>\n",
       "      <th>6</th>\n",
       "      <td>JakeWharton/py-videodownloader</td>\n",
       "      <td>26</td>\n",
       "      <td>False</td>\n",
       "      <td>2010</td>\n",
       "      <td>02</td>\n",
       "      <td>23</td>\n",
       "    </tr>\n",
       "    <tr>\n",
       "      <th>7</th>\n",
       "      <td>JakeWharton/WakkaWallpaper</td>\n",
       "      <td>8</td>\n",
       "      <td>False</td>\n",
       "      <td>2010</td>\n",
       "      <td>07</td>\n",
       "      <td>07</td>\n",
       "    </tr>\n",
       "    <tr>\n",
       "      <th>8</th>\n",
       "      <td>JakeWharton/SnakeWallpaper</td>\n",
       "      <td>10</td>\n",
       "      <td>False</td>\n",
       "      <td>2010</td>\n",
       "      <td>08</td>\n",
       "      <td>24</td>\n",
       "    </tr>\n",
       "    <tr>\n",
       "      <th>9</th>\n",
       "      <td>JakeWharton/BreakoutWallpaper</td>\n",
       "      <td>6</td>\n",
       "      <td>False</td>\n",
       "      <td>2010</td>\n",
       "      <td>08</td>\n",
       "      <td>28</td>\n",
       "    </tr>\n",
       "  </tbody>\n",
       "</table>\n",
       "</div>"
      ],
      "text/plain": [
       "                    nameWithOwner  forkCount  isFork  year month day\n",
       "0            JakeWharton/SMSMorse         17   False  2009    03  27\n",
       "1          JakeWharton/mkvdts2ac3         50   False  2009    03  27\n",
       "2          JakeWharton/SMSBarrage         27   False  2009    03  31\n",
       "3                   Knio/dominate         36   False  2009    05  14\n",
       "4                Knio/scenerename          0   False  2009    05  20\n",
       "5          JakeWharton/is_awesome          0   False  2009    07  12\n",
       "6  JakeWharton/py-videodownloader         26   False  2010    02  23\n",
       "7      JakeWharton/WakkaWallpaper          8   False  2010    07  07\n",
       "8      JakeWharton/SnakeWallpaper         10   False  2010    08  24\n",
       "9   JakeWharton/BreakoutWallpaper          6   False  2010    08  28"
      ]
     },
     "execution_count": 15,
     "metadata": {},
     "output_type": "execute_result"
    }
   ],
   "source": [
    "#Umwandeln der vorhandenen DATETIME Spalte. Aufteilen in *year', 'month' und 'day'\n",
    "repo1 = repo\n",
    "\n",
    "repo1[\"year\"] = \"\"\n",
    "repo1[\"month\"] = \"\"\n",
    "repo1[\"day\"] = \"\"\n",
    "\n",
    "index = 0\n",
    "\n",
    "for row in repo1['createdAt']:\n",
    "    year = (repo1.at[index ,'createdAt'][:4])\n",
    "    month = (repo1.at[index ,'createdAt'][5:7])\n",
    "    day = (repo1.at[index ,'createdAt'][8:10])\n",
    "    repo1.at[index, \"year\"] = year\n",
    "    repo1.at[index, \"month\"] = month\n",
    "    repo1.at[index, \"day\"] = day\n",
    "    index += 1\n",
    "    \n",
    "repo1.drop(repo1.columns[[1]], axis=1, inplace=True)\n",
    "repo1.head(10)\n"
   ]
  },
  {
   "cell_type": "markdown",
   "metadata": {},
   "source": [
    "Jetzt wollen wir mal wissen wie viele Leute sich ein Repository geforkt haben. Die Anzahl ist pro Jahr zu sehen."
   ]
  },
  {
   "cell_type": "code",
   "execution_count": 16,
   "metadata": {},
   "outputs": [
    {
     "name": "stdout",
     "output_type": "stream",
     "text": [
      "      forkCount\n",
      "year           \n",
      "2009        130\n",
      "2010       5188\n",
      "2011      10535\n",
      "2012      10542\n",
      "2013      13812\n",
      "2014       2181\n",
      "2015       6822\n"
     ]
    },
    {
     "data": {
      "text/html": [
       "<div>\n",
       "<style scoped>\n",
       "    .dataframe tbody tr th:only-of-type {\n",
       "        vertical-align: middle;\n",
       "    }\n",
       "\n",
       "    .dataframe tbody tr th {\n",
       "        vertical-align: top;\n",
       "    }\n",
       "\n",
       "    .dataframe thead th {\n",
       "        text-align: right;\n",
       "    }\n",
       "</style>\n",
       "<table border=\"1\" class=\"dataframe\">\n",
       "  <thead>\n",
       "    <tr style=\"text-align: right;\">\n",
       "      <th></th>\n",
       "      <th>forkCount</th>\n",
       "    </tr>\n",
       "    <tr>\n",
       "      <th>year</th>\n",
       "      <th></th>\n",
       "    </tr>\n",
       "  </thead>\n",
       "  <tbody>\n",
       "    <tr>\n",
       "      <th>2009</th>\n",
       "      <td>130</td>\n",
       "    </tr>\n",
       "    <tr>\n",
       "      <th>2010</th>\n",
       "      <td>5188</td>\n",
       "    </tr>\n",
       "    <tr>\n",
       "      <th>2011</th>\n",
       "      <td>10535</td>\n",
       "    </tr>\n",
       "    <tr>\n",
       "      <th>2012</th>\n",
       "      <td>10542</td>\n",
       "    </tr>\n",
       "    <tr>\n",
       "      <th>2013</th>\n",
       "      <td>13812</td>\n",
       "    </tr>\n",
       "    <tr>\n",
       "      <th>2014</th>\n",
       "      <td>2181</td>\n",
       "    </tr>\n",
       "    <tr>\n",
       "      <th>2015</th>\n",
       "      <td>6822</td>\n",
       "    </tr>\n",
       "  </tbody>\n",
       "</table>\n",
       "</div>"
      ],
      "text/plain": [
       "      forkCount\n",
       "year           \n",
       "2009        130\n",
       "2010       5188\n",
       "2011      10535\n",
       "2012      10542\n",
       "2013      13812\n",
       "2014       2181\n",
       "2015       6822"
      ]
     },
     "execution_count": 16,
     "metadata": {},
     "output_type": "execute_result"
    }
   ],
   "source": [
    "#erstellen DF mit year und forCount --> Gesamtanzahl der Forks auf die Jahre gesehen\n",
    "sumfork = repo1[['year','forkCount']].groupby('year')[['forkCount']].sum()\n",
    "print(sumfork)\n",
    "sumfork"
   ]
  },
  {
   "cell_type": "code",
   "execution_count": 17,
   "metadata": {
    "collapsed": true
   },
   "outputs": [],
   "source": [
    "#CSV erstellen\n",
    "sumfork.to_csv('data/sumFork.csv')"
   ]
  },
  {
   "cell_type": "markdown",
   "metadata": {},
   "source": [
    "Als nächsten Schritt werden wir nun noch ein kleines Diagramm erstellen. Dazu verwenden wir das bereits bekannte `matplotlib`-Projekt.\n",
    "\n",
    "Falls nochmals Bedarf besteht geht es [hier](https://github.com/dspyrhsu/th_02_matplotlib/blob/master/2017-12-01-NG-Matplotlib-vs-Seaborn.ipynb) zur Ausarbeitung von Nathalie Gäbler zum Thema `matplotlib`."
   ]
  },
  {
   "cell_type": "code",
   "execution_count": 18,
   "metadata": {
    "collapsed": true,
    "scrolled": true
   },
   "outputs": [],
   "source": [
    "# importieren der benötigten Lib's --> pandas haben wir schon\n",
    "import matplotlib.pyplot as plt\n",
    "%matplotlib inline \n",
    "import numpy as np"
   ]
  },
  {
   "cell_type": "code",
   "execution_count": 19,
   "metadata": {},
   "outputs": [
    {
     "data": {
      "text/html": [
       "<div>\n",
       "<style scoped>\n",
       "    .dataframe tbody tr th:only-of-type {\n",
       "        vertical-align: middle;\n",
       "    }\n",
       "\n",
       "    .dataframe tbody tr th {\n",
       "        vertical-align: top;\n",
       "    }\n",
       "\n",
       "    .dataframe thead th {\n",
       "        text-align: right;\n",
       "    }\n",
       "</style>\n",
       "<table border=\"1\" class=\"dataframe\">\n",
       "  <thead>\n",
       "    <tr style=\"text-align: right;\">\n",
       "      <th></th>\n",
       "      <th>year</th>\n",
       "      <th>forkCount</th>\n",
       "    </tr>\n",
       "  </thead>\n",
       "  <tbody>\n",
       "    <tr>\n",
       "      <th>0</th>\n",
       "      <td>2009</td>\n",
       "      <td>130</td>\n",
       "    </tr>\n",
       "    <tr>\n",
       "      <th>1</th>\n",
       "      <td>2010</td>\n",
       "      <td>5188</td>\n",
       "    </tr>\n",
       "    <tr>\n",
       "      <th>2</th>\n",
       "      <td>2011</td>\n",
       "      <td>10535</td>\n",
       "    </tr>\n",
       "    <tr>\n",
       "      <th>3</th>\n",
       "      <td>2012</td>\n",
       "      <td>10542</td>\n",
       "    </tr>\n",
       "    <tr>\n",
       "      <th>4</th>\n",
       "      <td>2013</td>\n",
       "      <td>13812</td>\n",
       "    </tr>\n",
       "    <tr>\n",
       "      <th>5</th>\n",
       "      <td>2014</td>\n",
       "      <td>2181</td>\n",
       "    </tr>\n",
       "    <tr>\n",
       "      <th>6</th>\n",
       "      <td>2015</td>\n",
       "      <td>6822</td>\n",
       "    </tr>\n",
       "  </tbody>\n",
       "</table>\n",
       "</div>"
      ],
      "text/plain": [
       "   year  forkCount\n",
       "0  2009        130\n",
       "1  2010       5188\n",
       "2  2011      10535\n",
       "3  2012      10542\n",
       "4  2013      13812\n",
       "5  2014       2181\n",
       "6  2015       6822"
      ]
     },
     "execution_count": 19,
     "metadata": {},
     "output_type": "execute_result"
    }
   ],
   "source": [
    "#CSV einlesen\n",
    "fork = pd.read_csv('./data/sumFork.csv')\n",
    "fork"
   ]
  },
  {
   "cell_type": "code",
   "execution_count": 20,
   "metadata": {},
   "outputs": [
    {
     "data": {
      "image/png": "[encoded data removed]",
      "text/plain": [
       "<matplotlib.figure.Figure at 0x7f3ff43bd668>"
      ]
     },
     "metadata": {},
     "output_type": "display_data"
    }
   ],
   "source": [
    "x = fork['forkCount']\n",
    "y = fork['year']\n",
    "\n",
    "plt.title('Total Forks')\n",
    "plt.xlabel('Year')\n",
    "plt.ylabel('Total Amount')\n",
    "plt.plot(y,x)\n",
    "plt.show()"
   ]
  },
  {
   "cell_type": "markdown",
   "metadata": {},
   "source": [
    "##### Mutation: "
   ]
  },
  {
   "cell_type": "markdown",
   "metadata": {},
   "source": [
    "Um eine Muttion durchführen zu können, muss die ID des Objektes welches wir manipulieren wollen bekannt sein. Um das herauszufinden müssen wir also zuerst eine Query machen um danach mit der in Erfahrung gebrachten IDeine Mutation machen zu können."
   ]
  },
  {
   "cell_type": "code",
   "execution_count": 21,
   "metadata": {},
   "outputs": [
    {
     "name": "stdout",
     "output_type": "stream",
     "text": [
      "{'data': {'repository': {'issue': {'id': 'MDU6SXNzdWUyODYyMjQ3MzM='}}}}\n"
     ]
    }
   ],
   "source": [
    "# Query: Suche nach der ID eines Issue-Objektes im Repository 'hello-world'\n",
    "query = '''query FindIssueID {\n",
    "  repository(owner:\"datasienceelmo\", name:\"hello-world\") {\n",
    "    issue(number:2) {\n",
    "      id\n",
    "    }\n",
    "  }\n",
    "}'''\n",
    "#Query durchführen\n",
    "resultQuery = run_query(query)\n",
    "pprint (resultQuery)"
   ]
  },
  {
   "cell_type": "code",
   "execution_count": 23,
   "metadata": {},
   "outputs": [
    {
     "name": "stdout",
     "output_type": "stream",
     "text": [
      "{'data': {'addReaction': {'reaction': {'content': 'HOORAY'}, 'subject': {'id': 'MDU6SXNzdWUyODYyMjQ3MzM='}}}}\n"
     ]
    }
   ],
   "source": [
    "# Mutation: Eine Reaktion dem Issue hinzufügen\n",
    "mutation = '''mutation AddReactionToIssue {\n",
    "  addReaction(input:{subjectId:\"MDU6SXNzdWUyODYyMjQ3MzM=\",content:HOORAY}) {\n",
    "    reaction {\n",
    "      content\n",
    "    }\n",
    "    subject {\n",
    "      id\n",
    "    }\n",
    "  }\n",
    "}'''\n",
    "\n",
    "resultMutation = run_query(mutation)\n",
    "\n",
    "\n",
    "print (resultMutation)"
   ]
  },
  {
   "cell_type": "markdown",
   "metadata": {},
   "source": [
    "Als Ergebnis ist nun links unten , beim Issue ein Party-Symbol zu sehen."
   ]
  },
  {
   "cell_type": "markdown",
   "metadata": {},
   "source": [
    "![HOORAY](images/mutation.png)"
   ]
  },
  {
   "cell_type": "markdown",
   "metadata": {},
   "source": [
    "## Referenzen"
   ]
  },
  {
   "cell_type": "markdown",
   "metadata": {},
   "source": [
    "[1] Butter Knife *GitHub io* [http://jakewharton.github.io/butterknife/](http://jakewharton.github.io/butterknife/) \n",
    "\n",
    "[2] Developer Guide API V4 *GitHub* [https://developer.github.com/v4/guides](https://developer.github.com/v4/guides)  \n",
    "\n",
    "[3] Git *FAQ* [https://git.wiki.kernel.org/index.php/GitFaq#Why_the_.27Git.27_name.3F](https://git.wiki.kernel.org/index.php/GitFaq#Why_the_.27Git.27_name.3F)\n",
    "\n",
    "[4] Queries und Mutationen *GraphQL* [https://graphql.org/learn/queris](https://graphql.org/learn/queris)\n",
    "\n",
    "[5] Wikipediabeitrag *Git* [https://de.wikipedia.org/wiki/Git](https://de.wikipedia.org/wiki/Git)  \n",
    "\n",
    "[6] Wikipediabeitrag *GitHub* [https://de.wikipedia.org/wiki/GitHub](https://de.wikipedia.org/wiki/GitHub)\n",
    "\n",
    "[7] Wikipediabeitrag *GraphQL* [https://en.wikipedia.org/wiki/GraphQL](https://en.wikipedia.org/wiki/GraphQL)"
   ]
  },
  {
   "cell_type": "code",
   "execution_count": null,
   "metadata": {
    "collapsed": true
   },
   "outputs": [],
   "source": []
  }
 ],
 "metadata": {
  "kernelspec": {
   "display_name": "Python 3",
   "language": "python",
   "name": "python3"
  },
  "language_info": {
   "codemirror_mode": {
    "name": "ipython",
    "version": 3
   },
   "file_extension": ".py",
   "mimetype": "text/x-python",
   "name": "python",
   "nbconvert_exporter": "python",
   "pygments_lexer": "ipython3",
   "version": "3.6.2"
  }
 },
 "nbformat": 4,
 "nbformat_minor": 2
}
