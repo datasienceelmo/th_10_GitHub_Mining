{
 "cells": [
  {
   "cell_type": "markdown",
   "metadata": {},
   "source": [
    "# GitHub Mining "
   ]
  },
  {
   "cell_type": "markdown",
   "metadata": {},
   "source": [
    "## git, GitHub - was ist das? "
   ]
  },
  {
   "cell_type": "markdown",
   "metadata": {},
   "source": [
    "**`git`** ist eine Software zur Versionsverwaltung bei der Entwicklung von Software. Entwickelt wurde Linux aufgrund von Lizenzproblemen mit der ursprünglichen Versionsverwaltungssoftware die bei der Entwicklung des Linux-Kernels zum Einsatz kam. Der Initiator *Linus Torvalds* präsentierte eine <span style=\"color:red\">Review RK: nur Leerzeichen zwischen den 2 Wörtern eingefügt</span> erste Version, wenige Monate nach Entwicklungsbeginn, bereits im April 2005. [[4]](#Referenzen)\n",
    "\n",
    "> “I’m an egotistical bastard, and I name all my projects after myself. First ‘Linux’, now ‘Git’.”\n",
    "   „Ich bin ein egoistisches Arschloch und ich benenne all meine Projekte nach mir. Zuerst ‚Linux‘, jetzt eben ‚Git‘.“\n",
    "      – Linus Torvalds [[2]](#Referenzen)\n",
    "<span style=\"color:red\"> Review RK: Ich habe den Anfang des Zitates unter deiner angegebenen Referenz [2] gefunden, das ganze Zitat unter der Referenz [4]. In der Referenz [4] wird auf die Referenz [2] verwiesen. Muss hier als Referenz [4] anstatt [2] stehen? Oder müsste die [2] noch hinter dem englischen Zitat stehen?</span>\n",
    "      \n",
    "___\n",
    "  \n",
    "**`GitHub`** ist eine webbasierte Anwendung, welche quelloffene Software hostet. Der hautpsächliche Unterschied zu weiteren Plattformen, welche quelloffene Software hosten besteht darin, das GitHub, wie der Name schon sagt auf der git-Software *basiert*. Somit ist die Versionsverwaltung von Software, welche über git im Terminal gemacht wird, grafisch aufgearbeitet und einfach zu bedienen. Durch diese einfach und unkomplizierte Nutzung von git und das internationale Zusammenarbeiten an quelloffener Software ist GitHub sehr populär.\n",
    "Ein par Zahlen vom August 2015: <span style=\"color:red\">Review RK: Ich würde schreiben: 'Im Folgenden werden ein paar Zahlen von August 2015 aufgezeigt:'</span>\n",
    "> + über 10 Millionen Nutzer\n",
    "+ 26,3 Millionen Repository's\n",
    "\n",
    "Ein weiteres Feature von GitHub bietet an, <span style=\"color:red\">Review RK: Komma eingefügt'</span> sein Repository mit einer GitHub Website zu verknüpfen. Ein Beispiel wäre: Butter Knife - *Field and method binding for Android views* [\\[1\\] [5]](#Referenzen)"
   ]
  },
  {
   "cell_type": "markdown",
   "metadata": {},
   "source": [
    "## GitHub Mining - was bedeutet das eigentlich?"
   ]
  },
  {
   "cell_type": "markdown",
   "metadata": {},
   "source": [
    "Das Wort **`Mining`** ist laut meiner Interpretation in diesem Kontext in zwei Gebieten einsetzbar und muss für diese Ausarbeitung auch in beiden Gebieten angewendet werden. \n",
    "\n",
    "In dem ersten Gebiet geht es um die Datenbeschaffung über eine von GitHub bereitgestellte API. Das zweite Gebiet ist dann die Datenanalyse (Data Mining). Ich <span style=\"color:red\">Review RK: 'Ich' war klein geschrieben</span> habe den Kontext in diese zwei Gebiete eingeteilt, weil unter dem Begriff `Data Mining`, <span style=\"color:red\">Review RK: Komma eingefügt</span> welcher das Wort Mining (engl.: mining = beschaffen, graben, ...) enthält, eigentlich nur das Auswerten von bereits vorhandenen Daten verstanden wird. Folglich hat Data Mining mit dem Beschaffen von Daten nicht direkt etwas zu tun."
   ]
  },
  {
   "cell_type": "markdown",
   "metadata": {},
   "source": [
    "## Die GitHub API - die Datenquelle"
   ]
  },
  {
   "cell_type": "markdown",
   "metadata": {},
   "source": [
    "Die GitHub API ist bereits in der vierten Version. Mit der Version 4 der API von GitHub hat auch eine neue Technologie Einzug gehalten. GitbHub hat bisher auf eine REST API gesetzt. <span style=\"color:red\">Review: nur Rechtschreibefehler verbessert</span> Die Version 4 ist jetzt aber eine GraphQL API.\n",
    "Der API Endpoint ist: `https://api.github.com/graphql`\n",
    "\n",
    "> Eine Einführung zu GraphQL gibt es [hier](https://developer.github.com/v4/guides/intro-to-graphql/)  \n",
    "> Einen Step-by-Step Guide für API Calls finden wir [hier](https://developer.github.com/v4/guides/forming-calls/)\n",
    "\n",
    "Die Version 3 wäre zwar noch erreichbar, aber aufgrund der Tatsache, dass <span style=\"color:red\">Review RK: ', dass' eingefügt</span> mir die Möglichkeit gegeben wird, <span style=\"color:red\">Review RK: Komma eingefügt</span> im Rahmen dieses Seminars <span style=\"color:red\">Review RK: ...'Data Sciene mit Python und R'...</span> an der Hochschule Ulm eine *neue Technologie* zu nutzen, werden wir im nun folgendem Praxisteil die Version 4, ergo GraphQL API einsetzen um die Daten von GitHub zu erhalten. Schlussendlich habe ich versucht GitHub Mining in zwei Phasen zu unterteilen:\n",
    "- Phase 1 - Daten beschaffen\n",
    "- Phase 2 - Daten auswerten  \n",
    "\n"
   ]
  },
  {
   "cell_type": "markdown",
   "metadata": {},
   "source": [
    "### Phase 1 - Daten beschaffen"
   ]
  },
  {
   "cell_type": "markdown",
   "metadata": {},
   "source": [
    "Um die API nutzen zu können, benötigen wir einen persönlichen Zugriffstoken. \n",
    "> Genauere Informationen wie man einen Zugriffstoken erstellen kann finden wir [hier](https://help.github.com/articles/creating-a-personal-access-token-for-the-command-line/).\n",
    "<span style=\"color:red\">Review RK: Ich würde vor die Abbildung noch einen Satz in der Art schreiben: Die folgende Abbildung zeigt einen Ausschnitt aus Schritt 7 der verlinkten Anleitung. Wir wählen in unserem Beispiel 'repo', 'user' und 'delete_user' aus.</span>\n",
    "\n",
    "![Scope Accesstoken](images/accesstoken_scope.png)"
   ]
  },
  {
   "cell_type": "markdown",
   "metadata": {},
   "source": [
    "> **Denke daran direkt beim Token generieren, das Token auch zu kopieren und irgendwo sicher abzuspeichern, falls du es nicht mehr zur Hand <span style=\"color:red\">Review RK: nur Rechtschreibefehler verbessert, Komma und Punkt eingefügt</span> hast, kannst du das Token aber auch regenerieren. Das alte Token ist dann nicht mehr gültig.**"
   ]
  },
  {
   "cell_type": "markdown",
   "metadata": {},
   "source": [
    "Importieren der benötigten Bibliotheken. "
   ]
  },
  {
   "cell_type": "code",
   "execution_count": 1,
   "metadata": {
    "collapsed": true
   },
   "outputs": [],
   "source": [
    "import requests # um requests an einen Web Endpoint zu senden\n",
    "from pprint import pprint #um JSON schöner darzustellen\n",
    "import json #zum JSON encoden\n",
    "import csv #zum generieren des csv-File"
   ]
  },
  {
   "cell_type": "markdown",
   "metadata": {},
   "source": [
    "Wir testen nun das generierte Token. Dazu fragen wir einfach ein paar Informationen zu unserem Nutzer ab:\n",
    "> generierte Token =  04f3e4d581aaf1bb794aadb3106d0597fd92d53b <span style=\"color:red\">Review RK: generiertes Token?</span>"
   ]
  },
  {
   "cell_type": "code",
   "execution_count": 2,
   "metadata": {},
   "outputs": [
    {
     "name": "stdout",
     "output_type": "stream",
     "text": [
      "<Response [401]>\n",
      "{\"message\":\"Bad credentials\",\"documentation_url\":\"https://developer.github.com/v3\"}\n",
      "{'documentation_url': 'https://developer.github.com/v3',\n",
      " 'message': 'Bad credentials'}\n"
     ]
    }
   ],
   "source": [
    "url = 'https://api.github.com/graphql'\n",
    "request = { \"query\" : \"\"\"query {\n",
    "  viewer {\n",
    "    login\n",
    "    name\n",
    "    bio\n",
    "    company\n",
    "    location\n",
    "  }\n",
    "}\"\"\" \n",
    "        }\n",
    "api_token = \"04f3e4d581aaf1bb794aadb3106d0597fd92d53b\"\n",
    "headers = {'Authorization': 'token %s' % api_token}\n",
    "\n",
    "result_tokentest = requests.post(url=url, json=request, headers=headers) # just Response Code\n",
    "string_tokentest = result_tokentest.text\n",
    "\n",
    "#Drei verschiedene Arten sich das Ergebnis anzeigen zu lassen\n",
    "print (result_tokentest)\n",
    "print (string_tokentest)\n",
    "pprint(result_tokentest.json())"
   ]
  },
  {
   "cell_type": "markdown",
   "metadata": {},
   "source": [
    "Für die weiteren Verlauf des Praxisteils <span style=\"color:red\">Review RK: '... verwenden wir folgenden Code:'</span>"
   ]
  },
  {
   "cell_type": "code",
   "execution_count": 3,
   "metadata": {
    "collapsed": true
   },
   "outputs": [],
   "source": [
    "def run_query(query): \n",
    "    request = requests.post('https://api.github.com/graphql', json={'query': query}, headers=headers)\n",
    "    if request.status_code == 200: #Abfrage war erfolgreich Responsecode == 200\n",
    "        return request.json()\n",
    "    else:\n",
    "        raise Exception(\"Query failed to run by returning code of {}. {}\".format(request.status_code, query))"
   ]
  },
  {
   "cell_type": "markdown",
   "metadata": {},
   "source": [
    "Als nächstes wollen wir das Rate Limit in Erfahrung bringen. Beim ersten mal habe ich nun einen Fehler eingebaut: <span style=\"color:red\">Review RK: anstatt dem 2. Satz würde ich vlt. schreiben: In dem ersten Beispiel ist ein Fehler eingebaut. Anstatt 'viewer' wird 'vieer' geschrieben. </span>"
   ]
  },
  {
   "cell_type": "code",
   "execution_count": 4,
   "metadata": {
    "collapsed": true
   },
   "outputs": [],
   "source": [
    "       \n",
    "query = \"\"\"\n",
    "{\n",
    "  vieer {\n",
    "    login\n",
    "  }\n",
    "  rateLimit {\n",
    "    limit\n",
    "    cost\n",
    "    remaining\n",
    "    resetAt\n",
    "  }\n",
    "}\n",
    "\"\"\" #nicht vieer sondern eigentlich viewer"
   ]
  },
  {
   "cell_type": "code",
   "execution_count": 5,
   "metadata": {},
   "outputs": [
    {
     "name": "stdout",
     "output_type": "stream",
     "text": [
      "{'data': None, 'errors': [{'message': \"Field 'vieer' doesn't exist on type 'Query'\", 'locations': [{'line': 3, 'column': 3}]}]}\n",
      "{'data': None,\n",
      " 'errors': [{'locations': [{'column': 3, 'line': 3}],\n",
      "             'message': \"Field 'vieer' doesn't exist on type 'Query'\"}]}\n"
     ]
    }
   ],
   "source": [
    "result = run_query(query)\n",
    "print(result)\n",
    "pprint(result) \n",
    "#Beachte: Ab hier wird die .json()-Methode in pprint nicht mehr verwendet, weil bereits in der run_query(query) enthalten"
   ]
  },
  {
   "cell_type": "markdown",
   "metadata": {},
   "source": [
    "> Somit konnten wir durch den Einbau des Fehlers direkt verifizieren, dass unsere obige `run_query(query)` - Funktion bei einem nicht erfolgreichen Respond eine Fehlermeldung wirft. \n",
    "<span style=\"color:red\">Review RK: 'Somit' groß geschrieben und ',dass' eingefügt</span>\n",
    "\n",
    "<span style=\"color:red\">Review RK: Ich würde noch einen Satz vor den Code ohne eingebauten Fehler schreiben.\n",
    "</span>"
   ]
  },
  {
   "cell_type": "code",
   "execution_count": 6,
   "metadata": {
    "collapsed": true
   },
   "outputs": [],
   "source": [
    "query = \"\"\"\n",
    "{\n",
    "  viewer {\n",
    "    login\n",
    "  }\n",
    "  rateLimit {\n",
    "    limit\n",
    "    cost\n",
    "    remaining\n",
    "    resetAt\n",
    "  }\n",
    "}\n",
    "\"\"\" "
   ]
  },
  {
   "cell_type": "code",
   "execution_count": 7,
   "metadata": {},
   "outputs": [
    {
     "name": "stdout",
     "output_type": "stream",
     "text": [
      "{'data': {'viewer': {'login': 'datasienceelmo'}, 'rateLimit': {'limit': 5000, 'cost': 1, 'remaining': 4955, 'resetAt': '2018-01-05T09:03:53Z'}}}\n",
      "{'data': {'rateLimit': {'cost': 1,\n",
      "                        'limit': 5000,\n",
      "                        'remaining': 4955,\n",
      "                        'resetAt': '2018-01-05T09:03:53Z'},\n",
      "          'viewer': {'login': 'datasienceelmo'}}}\n"
     ]
    }
   ],
   "source": [
    "result = run_query(query)\n",
    "print(result)\n",
    "pprint(result)"
   ]
  },
  {
   "cell_type": "code",
   "execution_count": 8,
   "metadata": {},
   "outputs": [
    {
     "name": "stdout",
     "output_type": "stream",
     "text": [
      "Remaining rate limit - 4955\n"
     ]
    }
   ],
   "source": [
    "remaining_rate_limit = result[\"data\"][\"rateLimit\"][\"remaining\"]\n",
    "print(\"Remaining rate limit - {}\".format(remaining_rate_limit))"
   ]
  },
  {
   "cell_type": "markdown",
   "metadata": {},
   "source": [
    "Wie bei jeder öffentlich zugänglichen API gibt es eine bestimmte Anzahl an Calls, welche man an die API schicken darf (meist abhängig der Zeit). Bei der REST API von GitHub betrug die Menge der Calls 5000/pro Stunde. Bei der GraphQL API wird aber mit **Points** gerechnet. Dies geschieht, <span style=\"color:red\">Review RK: Komma eingefügt</span> weil ein GraphQL Call mehrere REST Calls ersetzt. Um das auszutarieren, werden für die verschiedenen Calls verschieden viele Punkte berechnet und abgezogen. Aktuell hat man ein Limit von 5000 Punkte pro Stunde."
   ]
  },
  {
   "cell_type": "markdown",
   "metadata": {},
   "source": [
    "Um die 5000 Punkte auch zu Nutzen gehen wir nun dazu über einen etwas \"geschäftigeren\" Account zu durchforsten. Dazu verwende ich den oben bereits in Erscheinung getretenen [Account](https://github.com/JakeWharton) von `Jake Wharton`.\n",
    "\n",
    "##### Mit wem haben wir es zu tun?\n",
    "\n",
    "+ Account erstellt am?\n",
    "+ avatar\n",
    "+ Name\n",
    "+ Bio\n",
    "+ Seiten Admin?\n",
    "+ Standort\n",
    "+ Arbeitgeber\n",
    "+ arbeitet für GitHub?\n",
    "+ ist im Campus Experts Program?\n",
    "+ hat er eine Website?"
   ]
  },
  {
   "cell_type": "code",
   "execution_count": 9,
   "metadata": {},
   "outputs": [
    {
     "name": "stdout",
     "output_type": "stream",
     "text": [
      "{'data': {'user': {'avatarUrl': 'https://avatars0.githubusercontent.com/u/66577?v=4',\n",
      "                   'bio': '',\n",
      "                   'company': 'Google, Inc.',\n",
      "                   'createdAt': '2009-03-24T16:09:53Z',\n",
      "                   'isCampusExpert': False,\n",
      "                   'isEmployee': False,\n",
      "                   'isSiteAdmin': False,\n",
      "                   'location': 'Pittsburgh, PA, USA',\n",
      "                   'name': 'Jake Wharton',\n",
      "                   'websiteUrl': 'http://jakewharton.com'}}}\n"
     ]
    }
   ],
   "source": [
    "queryjake =\"\"\"{\n",
    "  user(login:\"JakeWharton\") {\n",
    "    createdAt\n",
    "    avatarUrl\n",
    "    name\n",
    "    bio\n",
    "    isSiteAdmin\n",
    "    location\n",
    "    company\n",
    "    isEmployee\n",
    "    isCampusExpert\n",
    "    websiteUrl\n",
    "  }\n",
    "}\"\"\"\n",
    "\n",
    "pprint(run_query(queryjake))"
   ]
  },
  {
   "cell_type": "markdown",
   "metadata": {},
   "source": [
    "![Jake](https://avatars0.githubusercontent.com/u/66577?v=4)"
   ]
  },
  {
   "cell_type": "markdown",
   "metadata": {},
   "source": [
    "Wir werfen einen genaueren Blick auf das Repository: *butterknife*"
   ]
  },
  {
   "cell_type": "code",
   "execution_count": 10,
   "metadata": {},
   "outputs": [
    {
     "name": "stdout",
     "output_type": "stream",
     "text": [
      "{'data': {'repository': {'stargazers': {'edges': [{'node': {'name': 'Dair Diaz '\n",
      "                                                                    'Rambao',\n",
      "                                                            'url': 'https://github.com/dairdr'}},\n",
      "                                                  {'node': {'name': None,\n",
      "                                                            'url': 'https://github.com/15768093606'}},\n",
      "                                                  {'node': {'name': 'Jacob '\n",
      "                                                                    'Windle',\n",
      "                                                            'url': 'https://github.com/jaketothepast'}},\n",
      "                                                  {'node': {'name': None,\n",
      "                                                            'url': 'https://github.com/xiaobaidian'}},\n",
      "                                                  {'node': {'name': 'Trần Công '\n",
      "                                                                    'Danh',\n",
      "                                                            'url': 'https://github.com/congdanh1608'}},\n",
      "                                                  {'node': {'name': '',\n",
      "                                                            'url': 'https://github.com/wendraw'}},\n",
      "                                                  {'node': {'name': '',\n",
      "                                                            'url': 'https://github.com/budworm'}},\n",
      "                                                  {'node': {'name': None,\n",
      "                                                            'url': 'https://github.com/SoarY'}},\n",
      "                                                  {'node': {'name': None,\n",
      "                                                            'url': 'https://github.com/PlanLee'}},\n",
      "                                                  {'node': {'name': 'Yongxiao',\n",
      "                                                            'url': 'https://github.com/LinYongXiao'}}],\n",
      "                                        'totalCount': 19648},\n",
      "                         'url': 'https://github.com/JakeWharton/butterknife'}}}\n"
     ]
    }
   ],
   "source": [
    "queryjake =\"\"\"query {\n",
    "  repository(owner:\"JakeWharton\", name:\"butterknife\") {\n",
    "    url\n",
    "    stargazers(last:10) {\n",
    "      totalCount\n",
    "      edges {\n",
    "        node {\n",
    "          name\n",
    "          url\n",
    "        }\n",
    "      }\n",
    "    }\n",
    "  }\n",
    "}\n",
    "\"\"\"\n",
    "result = run_query(queryjake)\n",
    "totalStars = result['data']['repository']['stargazers']['totalCount']\n",
    "pprint(result)"
   ]
  },
  {
   "cell_type": "markdown",
   "metadata": {},
   "source": [
    "> Wie wir anhand unseres Ergebnisses sehen können, hat das Repository insgesamt 19646 Stargazers (Likes). Die letzten zehn stargazers werden ausgegeben. Und falls man mal die Url zum Repository vergessen hat, habe ich diese auch nochmals angefragt."
   ]
  },
  {
   "cell_type": "markdown",
   "metadata": {},
   "source": [
    "##### Generieren eines Datensatzes um diesen dann lokal nutzen könnte ."
   ]
  },
  {
   "cell_type": "code",
   "execution_count": 11,
   "metadata": {},
   "outputs": [
    {
     "name": "stdout",
     "output_type": "stream",
     "text": [
      "{'data': {'user': {'repositories': {'nodes': [{'createdAt': '2009-03-27T03:26:46Z',\n",
      "                                               'forkCount': 17,\n",
      "                                               'isFork': False,\n",
      "                                               'nameWithOwner': 'JakeWharton/SMSMorse'},\n",
      "                                              {'createdAt': '2009-03-27T03:35:57Z',\n",
      "                                               'forkCount': 50,\n",
      "                                               'isFork': False,\n",
      "                                               'nameWithOwner': 'JakeWharton/mkvdts2ac3'},\n",
      "                                              {'createdAt': '2009-03-31T22:18:32Z',\n",
      "                                               'forkCount': 27,\n",
      "                                               'isFork': False,\n",
      "                                               'nameWithOwner': 'JakeWharton/SMSBarrage'},\n",
      "                                              {'createdAt': '2009-05-14T05:42:39Z',\n",
      "                                               'forkCount': 36,\n",
      "                                               'isFork': False,\n",
      "                                               'nameWithOwner': 'Knio/dominate'},\n",
      "                                              {'createdAt': '2009-05-20T05:45:47Z',\n",
      "                                               'forkCount': 0,\n",
      "                                               'isFork': False,\n",
      "                                               'nameWithOwner': 'Knio/scenerename'},\n",
      "                                              {'createdAt': '2009-07-12T02:27:19Z',\n",
      "                                               'forkCount': 0,\n",
      "                                               'isFork': False,\n",
      "                                               'nameWithOwner': 'JakeWharton/is_awesome'},\n",
      "                                              {'createdAt': '2010-02-23T04:34:27Z',\n",
      "                                               'forkCount': 26,\n",
      "                                               'isFork': False,\n",
      "                                               'nameWithOwner': 'JakeWharton/py-videodownloader'},\n",
      "                                              {'createdAt': '2010-07-07T23:41:20Z',\n",
      "                                               'forkCount': 8,\n",
      "                                               'isFork': False,\n",
      "                                               'nameWithOwner': 'JakeWharton/WakkaWallpaper'},\n",
      "                                              {'createdAt': '2010-08-24T15:08:32Z',\n",
      "                                               'forkCount': 10,\n",
      "                                               'isFork': False,\n",
      "                                               'nameWithOwner': 'JakeWharton/SnakeWallpaper'},\n",
      "                                              {'createdAt': '2010-08-28T04:13:34Z',\n",
      "                                               'forkCount': 6,\n",
      "                                               'isFork': False,\n",
      "                                               'nameWithOwner': 'JakeWharton/BreakoutWallpaper'},\n",
      "                                              {'createdAt': '2010-09-06T21:39:43Z',\n",
      "                                               'forkCount': 5110,\n",
      "                                               'isFork': False,\n",
      "                                               'nameWithOwner': 'square/retrofit'},\n",
      "                                              {'createdAt': '2010-09-07T04:13:49Z',\n",
      "                                               'forkCount': 18,\n",
      "                                               'isFork': False,\n",
      "                                               'nameWithOwner': 'JakeWharton/TronWallpaper'},\n",
      "                                              {'createdAt': '2010-10-19T23:44:55Z',\n",
      "                                               'forkCount': 0,\n",
      "                                               'isFork': False,\n",
      "                                               'nameWithOwner': 'JakeWharton/guiceymongo-generator-maven-plugin'},\n",
      "                                              {'createdAt': '2011-03-07T17:28:54Z',\n",
      "                                               'forkCount': 3978,\n",
      "                                               'isFork': False,\n",
      "                                               'nameWithOwner': 'JakeWharton/ActionBarSherlock'},\n",
      "                                              {'createdAt': '2011-03-24T04:48:11Z',\n",
      "                                               'forkCount': 7,\n",
      "                                               'isFork': False,\n",
      "                                               'nameWithOwner': 'JakeWharton/pingdom-java'},\n",
      "                                              {'createdAt': '2011-03-30T04:27:43Z',\n",
      "                                               'forkCount': 8,\n",
      "                                               'isFork': False,\n",
      "                                               'nameWithOwner': 'JakeWharton/apibuilder'},\n",
      "                                              {'createdAt': '2011-03-31T04:29:38Z',\n",
      "                                               'forkCount': 37,\n",
      "                                               'isFork': False,\n",
      "                                               'nameWithOwner': 'JakeWharton/trakt-java'},\n",
      "                                              {'createdAt': '2011-04-16T01:03:02Z',\n",
      "                                               'forkCount': 2,\n",
      "                                               'isFork': False,\n",
      "                                               'nameWithOwner': 'JakeWharton/github-deploy-maven-plugin'},\n",
      "                                              {'createdAt': '2011-04-19T20:22:14Z',\n",
      "                                               'forkCount': 0,\n",
      "                                               'isFork': False,\n",
      "                                               'nameWithOwner': 'JakeWharton/myp2p-boxee-app'},\n",
      "                                              {'createdAt': '2011-04-24T17:42:34Z',\n",
      "                                               'forkCount': 2,\n",
      "                                               'isFork': False,\n",
      "                                               'nameWithOwner': 'JakeWharton/domainr-java'},\n",
      "                                              {'createdAt': '2011-05-02T23:06:48Z',\n",
      "                                               'forkCount': 6,\n",
      "                                               'isFork': False,\n",
      "                                               'nameWithOwner': 'JakeWharton/uglify-js-middleware'},\n",
      "                                              {'createdAt': '2011-08-01T04:32:49Z',\n",
      "                                               'forkCount': 14,\n",
      "                                               'isFork': False,\n",
      "                                               'nameWithOwner': 'JakeWharton/Android-MapForgeFragment'},\n",
      "                                              {'createdAt': '2011-08-04T17:13:44Z',\n",
      "                                               'forkCount': 4294,\n",
      "                                               'isFork': False,\n",
      "                                               'nameWithOwner': 'JakeWharton/ViewPagerIndicator'},\n",
      "                                              {'createdAt': '2011-08-24T20:44:21Z',\n",
      "                                               'forkCount': 443,\n",
      "                                               'isFork': False,\n",
      "                                               'nameWithOwner': 'JakeWharton/Android-DirectionalViewPager'},\n",
      "                                              {'createdAt': '2011-09-02T21:45:06Z',\n",
      "                                               'forkCount': 2,\n",
      "                                               'isFork': False,\n",
      "                                               'nameWithOwner': 'Knio/dominate.js'},\n",
      "                                              {'createdAt': '2011-10-22T22:57:53Z',\n",
      "                                               'forkCount': 2,\n",
      "                                               'isFork': False,\n",
      "                                               'nameWithOwner': 'JakeWharton/DocBrown'},\n",
      "                                              {'createdAt': '2011-10-25T14:59:44Z',\n",
      "                                               'forkCount': 2,\n",
      "                                               'isFork': False,\n",
      "                                               'nameWithOwner': 'JakeWharton/untappd-java'},\n",
      "                                              {'createdAt': '2011-12-08T19:46:37Z',\n",
      "                                               'forkCount': 1673,\n",
      "                                               'isFork': False,\n",
      "                                               'nameWithOwner': 'JakeWharton/NineOldAndroids'},\n",
      "                                              {'createdAt': '2011-12-20T06:17:56Z',\n",
      "                                               'forkCount': 1,\n",
      "                                               'isFork': False,\n",
      "                                               'nameWithOwner': 'JakeWharton/heroku-java'},\n",
      "                                              {'createdAt': '2011-12-24T07:45:02Z',\n",
      "                                               'forkCount': 60,\n",
      "                                               'isFork': False,\n",
      "                                               'nameWithOwner': 'JakeWharton/HanselAndGretel'},\n",
      "                                              {'createdAt': '2011-12-29T18:02:34Z',\n",
      "                                               'forkCount': 1,\n",
      "                                               'isFork': False,\n",
      "                                               'nameWithOwner': 'JakeWharton/abs.io'},\n",
      "                                              {'createdAt': '2012-01-05T00:36:34Z',\n",
      "                                               'forkCount': 966,\n",
      "                                               'isFork': False,\n",
      "                                               'nameWithOwner': 'JakeWharton/DiskLruCache'},\n",
      "                                              {'createdAt': '2012-01-11T15:18:17Z',\n",
      "                                               'forkCount': 0,\n",
      "                                               'isFork': False,\n",
      "                                               'nameWithOwner': 'JakeWharton/lessres'},\n",
      "                                              {'createdAt': '2012-01-12T04:55:38Z',\n",
      "                                               'forkCount': 12,\n",
      "                                               'isFork': False,\n",
      "                                               'nameWithOwner': 'JakeWharton/jakewharton.com'},\n",
      "                                              {'createdAt': '2012-02-17T19:31:35Z',\n",
      "                                               'forkCount': 43,\n",
      "                                               'isFork': False,\n",
      "                                               'nameWithOwner': 'JakeWharton/ActionBarSherlock-Plugin-Maps'},\n",
      "                                              {'createdAt': '2012-05-06T09:46:05Z',\n",
      "                                               'forkCount': 7,\n",
      "                                               'isFork': False,\n",
      "                                               'nameWithOwner': 'JakeWharton/AndroidDesignKeynoteTheme'},\n",
      "                                              {'createdAt': '2012-05-07T06:48:28Z',\n",
      "                                               'forkCount': 4,\n",
      "                                               'isFork': False,\n",
      "                                               'nameWithOwner': 'JakeWharton/WritingAgileAPKs'},\n",
      "                                              {'createdAt': '2012-06-24T08:59:44Z',\n",
      "                                               'forkCount': 133,\n",
      "                                               'isFork': False,\n",
      "                                               'nameWithOwner': 'JakeWharton/SwipeToDismissNOA'},\n",
      "                                              {'createdAt': '2012-06-27T19:06:49Z',\n",
      "                                               'forkCount': 900,\n",
      "                                               'isFork': False,\n",
      "                                               'nameWithOwner': 'square/otto'},\n",
      "                                              {'createdAt': '2012-07-02T05:28:02Z',\n",
      "                                               'forkCount': 22,\n",
      "                                               'isFork': False,\n",
      "                                               'nameWithOwner': 'JakeWharton/NotificationCompat2'},\n",
      "                                              {'createdAt': '2012-07-06T20:00:58Z',\n",
      "                                               'forkCount': 10,\n",
      "                                               'isFork': False,\n",
      "                                               'nameWithOwner': 'JakeWharton/ActivityCompat2'},\n",
      "                                              {'createdAt': '2012-07-17T18:06:03Z',\n",
      "                                               'forkCount': 73,\n",
      "                                               'isFork': False,\n",
      "                                               'nameWithOwner': 'square/pollexor'},\n",
      "                                              {'createdAt': '2012-07-23T13:42:55Z',\n",
      "                                               'forkCount': 5756,\n",
      "                                               'isFork': False,\n",
      "                                               'nameWithOwner': 'square/okhttp'},\n",
      "                                              {'createdAt': '2012-08-02T23:25:32Z',\n",
      "                                               'forkCount': 2191,\n",
      "                                               'isFork': False,\n",
      "                                               'nameWithOwner': 'square/dagger'},\n",
      "                                              {'createdAt': '2012-09-06T03:24:10Z',\n",
      "                                               'forkCount': 141,\n",
      "                                               'isFork': False,\n",
      "                                               'nameWithOwner': 'square/seismic'},\n",
      "                                              {'createdAt': '2012-09-10T06:18:49Z',\n",
      "                                               'forkCount': 259,\n",
      "                                               'isFork': False,\n",
      "                                               'nameWithOwner': 'square/tape'},\n",
      "                                              {'createdAt': '2012-10-11T21:34:18Z',\n",
      "                                               'forkCount': 5,\n",
      "                                               'isFork': False,\n",
      "                                               'nameWithOwner': 'JakeWharton/EffectiveOpenSource'},\n",
      "                                              {'createdAt': '2013-01-17T18:51:30Z',\n",
      "                                               'forkCount': 168,\n",
      "                                               'isFork': False,\n",
      "                                               'nameWithOwner': 'square/assertj-android'},\n",
      "                                              {'createdAt': '2013-01-18T16:58:38Z',\n",
      "                                               'forkCount': 4,\n",
      "                                               'isFork': False,\n",
      "                                               'nameWithOwner': 'JakeWharton/jquery-maven-artifact'},\n",
      "                                              {'createdAt': '2013-01-23T00:29:36Z',\n",
      "                                               'forkCount': 442,\n",
      "                                               'isFork': False,\n",
      "                                               'nameWithOwner': 'square/spoon'},\n",
      "                                              {'createdAt': '2013-01-30T20:28:27Z',\n",
      "                                               'forkCount': 1167,\n",
      "                                               'isFork': False,\n",
      "                                               'nameWithOwner': 'square/android-times-square'},\n",
      "                                              {'createdAt': '2013-02-01T16:24:32Z',\n",
      "                                               'forkCount': 28,\n",
      "                                               'isFork': False,\n",
      "                                               'nameWithOwner': 'square/protoparser'},\n",
      "                                              {'createdAt': '2013-02-01T16:56:30Z',\n",
      "                                               'forkCount': 586,\n",
      "                                               'isFork': False,\n",
      "                                               'nameWithOwner': 'square/javapoet'},\n",
      "                                              {'createdAt': '2013-02-26T20:52:54Z',\n",
      "                                               'forkCount': 30,\n",
      "                                               'isFork': False,\n",
      "                                               'nameWithOwner': 'JakeWharton/gms-mvn-install'},\n",
      "                                              {'createdAt': '2013-03-05T08:18:59Z',\n",
      "                                               'forkCount': 3927,\n",
      "                                               'isFork': False,\n",
      "                                               'nameWithOwner': 'JakeWharton/butterknife'},\n",
      "                                              {'createdAt': '2013-03-06T06:20:55Z',\n",
      "                                               'forkCount': 7,\n",
      "                                               'isFork': False,\n",
      "                                               'nameWithOwner': 'JakeWharton/snooker'},\n",
      "                                              {'createdAt': '2013-03-06T08:54:56Z',\n",
      "                                               'forkCount': 129,\n",
      "                                               'isFork': False,\n",
      "                                               'nameWithOwner': 'JakeWharton/salvage'},\n",
      "                                              {'createdAt': '2013-03-19T23:37:58Z',\n",
      "                                               'forkCount': 14,\n",
      "                                               'isFork': False,\n",
      "                                               'nameWithOwner': 'square/jirafy'},\n",
      "                                              {'createdAt': '2013-04-03T16:02:16Z',\n",
      "                                               'forkCount': 34,\n",
      "                                               'isFork': False,\n",
      "                                               'nameWithOwner': 'JakeWharton/adjacent-fragment-pager-sample'},\n",
      "                                              {'createdAt': '2013-04-11T21:44:31Z',\n",
      "                                               'forkCount': 597,\n",
      "                                               'isFork': False,\n",
      "                                               'nameWithOwner': 'square/java-code-styles'},\n",
      "                                              {'createdAt': '2013-05-05T05:48:46Z',\n",
      "                                               'forkCount': 32,\n",
      "                                               'isFork': False,\n",
      "                                               'nameWithOwner': 'square/mimecraft'},\n",
      "                                              {'createdAt': '2013-05-10T16:02:30Z',\n",
      "                                               'forkCount': 41,\n",
      "                                               'isFork': False,\n",
      "                                               'nameWithOwner': 'square/dagger-intellij-plugin'},\n",
      "                                              {'createdAt': '2013-05-10T16:04:51Z',\n",
      "                                               'forkCount': 46,\n",
      "                                               'isFork': False,\n",
      "                                               'nameWithOwner': 'square/otto-intellij-plugin'},\n",
      "                                              {'createdAt': '2013-05-14T15:07:47Z',\n",
      "                                               'forkCount': 3737,\n",
      "                                               'isFork': False,\n",
      "                                               'nameWithOwner': 'square/picasso'},\n",
      "                                              {'createdAt': '2013-06-12T05:59:37Z',\n",
      "                                               'forkCount': 368,\n",
      "                                               'isFork': False,\n",
      "                                               'nameWithOwner': 'JakeWharton/pidcat'},\n",
      "                                              {'createdAt': '2013-07-18T06:23:33Z',\n",
      "                                               'forkCount': 525,\n",
      "                                               'isFork': False,\n",
      "                                               'nameWithOwner': 'JakeWharton/timber'},\n",
      "                                              {'createdAt': '2013-07-28T11:19:58Z',\n",
      "                                               'forkCount': 15,\n",
      "                                               'isFork': False,\n",
      "                                               'nameWithOwner': 'JakeWharton/ActionBarSherlock-Gradle-Sample'},\n",
      "                                              {'createdAt': '2013-08-12T22:18:43Z',\n",
      "                                               'forkCount': 57,\n",
      "                                               'isFork': False,\n",
      "                                               'nameWithOwner': 'JakeWharton/gradle-android-test-plugin'},\n",
      "                                              {'createdAt': '2013-08-21T15:45:47Z',\n",
      "                                               'forkCount': 302,\n",
      "                                               'isFork': False,\n",
      "                                               'nameWithOwner': 'square/wire'},\n",
      "                                              {'createdAt': '2013-10-08T04:03:50Z',\n",
      "                                               'forkCount': 2,\n",
      "                                               'isFork': False,\n",
      "                                               'nameWithOwner': 'JakeWharton/rebaseandsqua.sh'},\n",
      "                                              {'createdAt': '2013-11-14T11:58:23Z',\n",
      "                                               'forkCount': 958,\n",
      "                                               'isFork': False,\n",
      "                                               'nameWithOwner': 'JakeWharton/u2020'},\n",
      "                                              {'createdAt': '2013-11-25T09:16:40Z',\n",
      "                                               'forkCount': 547,\n",
      "                                               'isFork': False,\n",
      "                                               'nameWithOwner': 'JakeWharton/hugo'},\n",
      "                                              {'createdAt': '2013-12-05T22:50:07Z',\n",
      "                                               'forkCount': 12,\n",
      "                                               'isFork': False,\n",
      "                                               'nameWithOwner': 'JakeWharton/madge'},\n",
      "                                              {'createdAt': '2014-01-06T17:26:01Z',\n",
      "                                               'forkCount': 203,\n",
      "                                               'isFork': False,\n",
      "                                               'nameWithOwner': 'JakeWharton/scalpel'},\n",
      "                                              {'createdAt': '2014-01-22T00:51:50Z',\n",
      "                                               'forkCount': 118,\n",
      "                                               'isFork': False,\n",
      "                                               'nameWithOwner': 'square/phrase'},\n",
      "                                              {'createdAt': '2014-01-27T08:41:27Z',\n",
      "                                               'forkCount': 13,\n",
      "                                               'isFork': False,\n",
      "                                               'nameWithOwner': 'JakeWharton/paraphrase'},\n",
      "                                              {'createdAt': '2014-02-01T09:36:38Z',\n",
      "                                               'forkCount': 41,\n",
      "                                               'isFork': False,\n",
      "                                               'nameWithOwner': 'JakeWharton/double-espresso'},\n",
      "                                              {'createdAt': '2014-02-09T05:08:58Z',\n",
      "                                               'forkCount': 14,\n",
      "                                               'isFork': False,\n",
      "                                               'nameWithOwner': 'square/jna-gmp'},\n",
      "                                              {'createdAt': '2014-02-13T07:29:50Z',\n",
      "                                               'forkCount': 2,\n",
      "                                               'isFork': False,\n",
      "                                               'nameWithOwner': 'JakeWharton/resourcefs'},\n",
      "                                              {'createdAt': '2014-02-25T08:34:27Z',\n",
      "                                               'forkCount': 41,\n",
      "                                               'isFork': False,\n",
      "                                               'nameWithOwner': 'JakeWharton/flip-tables'},\n",
      "                                              {'createdAt': '2014-03-17T00:02:59Z',\n",
      "                                               'forkCount': 734,\n",
      "                                               'isFork': False,\n",
      "                                               'nameWithOwner': 'square/okio'},\n",
      "                                              {'createdAt': '2014-03-29T09:48:51Z',\n",
      "                                               'forkCount': 146,\n",
      "                                               'isFork': False,\n",
      "                                               'nameWithOwner': 'JakeWharton/sdk-manager-plugin'},\n",
      "                                              {'createdAt': '2014-07-07T23:00:14Z',\n",
      "                                               'forkCount': 13,\n",
      "                                               'isFork': False,\n",
      "                                               'nameWithOwner': 'JakeWharton/jardiff'},\n",
      "                                              {'createdAt': '2014-07-20T07:11:52Z',\n",
      "                                               'forkCount': 4,\n",
      "                                               'isFork': False,\n",
      "                                               'nameWithOwner': 'JakeWharton/byteunits'},\n",
      "                                              {'createdAt': '2014-07-25T05:49:13Z',\n",
      "                                               'forkCount': 5,\n",
      "                                               'isFork': False,\n",
      "                                               'nameWithOwner': 'JakeWharton/twirl-maven-plugin'},\n",
      "                                              {'createdAt': '2014-08-09T15:58:42Z',\n",
      "                                               'forkCount': 249,\n",
      "                                               'isFork': False,\n",
      "                                               'nameWithOwner': 'square/moshi'},\n",
      "                                              {'createdAt': '2014-08-13T07:57:20Z',\n",
      "                                               'forkCount': 22,\n",
      "                                               'isFork': False,\n",
      "                                               'nameWithOwner': 'square/pagerduty-incidents'},\n",
      "                                              {'createdAt': '2014-09-09T00:05:42Z',\n",
      "                                               'forkCount': 20,\n",
      "                                               'isFork': False,\n",
      "                                               'nameWithOwner': 'square/burst'},\n",
      "                                              {'createdAt': '2014-10-20T06:05:55Z',\n",
      "                                               'forkCount': 167,\n",
      "                                               'isFork': False,\n",
      "                                               'nameWithOwner': 'JakeWharton/kotterknife'},\n",
      "                                              {'createdAt': '2014-10-22T09:39:53Z',\n",
      "                                               'forkCount': 384,\n",
      "                                               'isFork': False,\n",
      "                                               'nameWithOwner': 'JakeWharton/Telecine'},\n",
      "                                              {'createdAt': '2015-02-19T04:38:37Z',\n",
      "                                               'forkCount': 418,\n",
      "                                               'isFork': False,\n",
      "                                               'nameWithOwner': 'square/sqlbrite'},\n",
      "                                              {'createdAt': '2015-03-10T17:11:02Z',\n",
      "                                               'forkCount': 5,\n",
      "                                               'isFork': False,\n",
      "                                               'nameWithOwner': 'AlecStrong/pizzasort'},\n",
      "                                              {'createdAt': '2015-03-19T18:21:20Z',\n",
      "                                               'forkCount': 2425,\n",
      "                                               'isFork': False,\n",
      "                                               'nameWithOwner': 'google/gson'},\n",
      "                                              {'createdAt': '2015-03-24T04:17:24Z',\n",
      "                                               'forkCount': 724,\n",
      "                                               'isFork': False,\n",
      "                                               'nameWithOwner': 'JakeWharton/RxBinding'},\n",
      "                                              {'createdAt': '2015-04-22T14:29:19Z',\n",
      "                                               'forkCount': 95,\n",
      "                                               'isFork': False,\n",
      "                                               'nameWithOwner': 'square/haha'},\n",
      "                                              {'createdAt': '2015-04-29T23:54:16Z',\n",
      "                                               'forkCount': 2946,\n",
      "                                               'isFork': False,\n",
      "                                               'nameWithOwner': 'square/leakcanary'},\n",
      "                                              {'createdAt': '2015-05-07T04:36:09Z',\n",
      "                                               'forkCount': 21,\n",
      "                                               'isFork': False,\n",
      "                                               'nameWithOwner': 'square/wire-gradle-plugin'},\n",
      "                                              {'createdAt': '2015-05-13T14:58:57Z',\n",
      "                                               'forkCount': 55,\n",
      "                                               'isFork': False,\n",
      "                                               'nameWithOwner': 'rharter/auto-value-parcel'},\n",
      "                                              {'createdAt': '2015-07-03T17:35:09Z',\n",
      "                                               'forkCount': 54,\n",
      "                                               'isFork': False,\n",
      "                                               'nameWithOwner': 'JakeWharton/ThreeTenABP'},\n",
      "                                              {'createdAt': '2015-07-08T05:39:28Z',\n",
      "                                               'forkCount': 58,\n",
      "                                               'isFork': False,\n",
      "                                               'nameWithOwner': 'JakeWharton/ProcessPhoenix'}]}}}}\n"
     ]
    }
   ],
   "source": [
    "queryjake=\"\"\"{\n",
    "  user(login:\"JakeWharton\"){\n",
    "      repositories(first:){\n",
    "      nodes{\n",
    "          nameWithOwner\n",
    "          createdAt\n",
    "          forkCount\n",
    "          isFork\n",
    "          }\n",
    "      }\n",
    "  }\n",
    "}\"\"\"\n",
    "\n",
    "pprint(run_query(queryjake))\n",
    "with open('data/data.txt', 'w') as outfile:\n",
    "    json.dump(run_query(queryjake), outfile)"
   ]
  },
  {
   "cell_type": "code",
   "execution_count": 12,
   "metadata": {
    "collapsed": true
   },
   "outputs": [],
   "source": [
    "def read_txt():\n",
    "    with open('data/data.txt', 'r') as content_file:\n",
    "        content = content_file.read()\n",
    "        return content"
   ]
  },
  {
   "cell_type": "code",
   "execution_count": 13,
   "metadata": {
    "collapsed": true
   },
   "outputs": [],
   "source": [
    "def create_csv(data_input):\n",
    "    \n",
    "    repo_csv = open('data/repoData.csv', 'w')\n",
    "    csvwriter = csv.writer(repo_csv)\n",
    "    \n",
    "    count = 0\n",
    "    \n",
    "    for repo in data_input:\n",
    "        \n",
    "        if count == 0:\n",
    "            \n",
    "            header = repo.keys()\n",
    "            \n",
    "            csvwriter.writerow(header)\n",
    "            \n",
    "            count += 1\n",
    "            \n",
    "        csvwriter.writerow(repo.values())\n",
    "    repo_csv.close()"
   ]
  },
  {
   "cell_type": "code",
   "execution_count": 14,
   "metadata": {
    "collapsed": true
   },
   "outputs": [],
   "source": [
    "raw_data=read_txt()\n",
    "    \n",
    "repo_parsed = json.loads(raw_data)\n",
    "\n",
    "repo_data = repo_parsed['data']['user']['repositories']['nodes']\n",
    "\n",
    "create_csv(repo_data)"
   ]
  },
  {
   "cell_type": "markdown",
   "metadata": {},
   "source": [
    "> Nun haben wir einen Datensatz mit dem wir ein wenig herumspielen können."
   ]
  },
  {
   "cell_type": "markdown",
   "metadata": {},
   "source": [
    "Zum \"Auswerten\" der Daten greifen wir auf pandas zurück."
   ]
  },
  {
   "cell_type": "code",
   "execution_count": 15,
   "metadata": {
    "collapsed": true
   },
   "outputs": [],
   "source": [
    "import pandas as pd"
   ]
  },
  {
   "cell_type": "code",
   "execution_count": 16,
   "metadata": {},
   "outputs": [
    {
     "data": {
      "text/html": [
       "<div>\n",
       "<style>\n",
       "    .dataframe thead tr:only-child th {\n",
       "        text-align: right;\n",
       "    }\n",
       "\n",
       "    .dataframe thead th {\n",
       "        text-align: left;\n",
       "    }\n",
       "\n",
       "    .dataframe tbody tr th {\n",
       "        vertical-align: top;\n",
       "    }\n",
       "</style>\n",
       "<table border=\"1\" class=\"dataframe\">\n",
       "  <thead>\n",
       "    <tr style=\"text-align: right;\">\n",
       "      <th></th>\n",
       "      <th>nameWithOwner</th>\n",
       "      <th>createdAt</th>\n",
       "      <th>forkCount</th>\n",
       "      <th>isFork</th>\n",
       "    </tr>\n",
       "  </thead>\n",
       "  <tbody>\n",
       "    <tr>\n",
       "      <th>0</th>\n",
       "      <td>JakeWharton/SMSMorse</td>\n",
       "      <td>2009-03-27T03:26:46Z</td>\n",
       "      <td>17</td>\n",
       "      <td>False</td>\n",
       "    </tr>\n",
       "    <tr>\n",
       "      <th>1</th>\n",
       "      <td>JakeWharton/mkvdts2ac3</td>\n",
       "      <td>2009-03-27T03:35:57Z</td>\n",
       "      <td>50</td>\n",
       "      <td>False</td>\n",
       "    </tr>\n",
       "    <tr>\n",
       "      <th>2</th>\n",
       "      <td>JakeWharton/SMSBarrage</td>\n",
       "      <td>2009-03-31T22:18:32Z</td>\n",
       "      <td>27</td>\n",
       "      <td>False</td>\n",
       "    </tr>\n",
       "    <tr>\n",
       "      <th>3</th>\n",
       "      <td>Knio/dominate</td>\n",
       "      <td>2009-05-14T05:42:39Z</td>\n",
       "      <td>36</td>\n",
       "      <td>False</td>\n",
       "    </tr>\n",
       "    <tr>\n",
       "      <th>4</th>\n",
       "      <td>Knio/scenerename</td>\n",
       "      <td>2009-05-20T05:45:47Z</td>\n",
       "      <td>0</td>\n",
       "      <td>False</td>\n",
       "    </tr>\n",
       "    <tr>\n",
       "      <th>5</th>\n",
       "      <td>JakeWharton/is_awesome</td>\n",
       "      <td>2009-07-12T02:27:19Z</td>\n",
       "      <td>0</td>\n",
       "      <td>False</td>\n",
       "    </tr>\n",
       "    <tr>\n",
       "      <th>6</th>\n",
       "      <td>JakeWharton/py-videodownloader</td>\n",
       "      <td>2010-02-23T04:34:27Z</td>\n",
       "      <td>26</td>\n",
       "      <td>False</td>\n",
       "    </tr>\n",
       "    <tr>\n",
       "      <th>7</th>\n",
       "      <td>JakeWharton/WakkaWallpaper</td>\n",
       "      <td>2010-07-07T23:41:20Z</td>\n",
       "      <td>8</td>\n",
       "      <td>False</td>\n",
       "    </tr>\n",
       "    <tr>\n",
       "      <th>8</th>\n",
       "      <td>JakeWharton/SnakeWallpaper</td>\n",
       "      <td>2010-08-24T15:08:32Z</td>\n",
       "      <td>10</td>\n",
       "      <td>False</td>\n",
       "    </tr>\n",
       "    <tr>\n",
       "      <th>9</th>\n",
       "      <td>JakeWharton/BreakoutWallpaper</td>\n",
       "      <td>2010-08-28T04:13:34Z</td>\n",
       "      <td>6</td>\n",
       "      <td>False</td>\n",
       "    </tr>\n",
       "  </tbody>\n",
       "</table>\n",
       "</div>"
      ],
      "text/plain": [
       "                    nameWithOwner             createdAt  forkCount  isFork\n",
       "0            JakeWharton/SMSMorse  2009-03-27T03:26:46Z         17   False\n",
       "1          JakeWharton/mkvdts2ac3  2009-03-27T03:35:57Z         50   False\n",
       "2          JakeWharton/SMSBarrage  2009-03-31T22:18:32Z         27   False\n",
       "3                   Knio/dominate  2009-05-14T05:42:39Z         36   False\n",
       "4                Knio/scenerename  2009-05-20T05:45:47Z          0   False\n",
       "5          JakeWharton/is_awesome  2009-07-12T02:27:19Z          0   False\n",
       "6  JakeWharton/py-videodownloader  2010-02-23T04:34:27Z         26   False\n",
       "7      JakeWharton/WakkaWallpaper  2010-07-07T23:41:20Z          8   False\n",
       "8      JakeWharton/SnakeWallpaper  2010-08-24T15:08:32Z         10   False\n",
       "9   JakeWharton/BreakoutWallpaper  2010-08-28T04:13:34Z          6   False"
      ]
     },
     "execution_count": 16,
     "metadata": {},
     "output_type": "execute_result"
    }
   ],
   "source": [
    "repo = pd.read_csv('./data/repoData.csv')\n",
    "repo.head(10)"
   ]
  },
  {
   "cell_type": "code",
   "execution_count": 17,
   "metadata": {},
   "outputs": [
    {
     "data": {
      "text/html": [
       "<div>\n",
       "<style>\n",
       "    .dataframe thead tr:only-child th {\n",
       "        text-align: right;\n",
       "    }\n",
       "\n",
       "    .dataframe thead th {\n",
       "        text-align: left;\n",
       "    }\n",
       "\n",
       "    .dataframe tbody tr th {\n",
       "        vertical-align: top;\n",
       "    }\n",
       "</style>\n",
       "<table border=\"1\" class=\"dataframe\">\n",
       "  <thead>\n",
       "    <tr style=\"text-align: right;\">\n",
       "      <th></th>\n",
       "      <th>nameWithOwner</th>\n",
       "      <th>createdAt</th>\n",
       "      <th>forkCount</th>\n",
       "      <th>isFork</th>\n",
       "      <th>year</th>\n",
       "      <th>month</th>\n",
       "      <th>day</th>\n",
       "    </tr>\n",
       "  </thead>\n",
       "  <tbody>\n",
       "    <tr>\n",
       "      <th>0</th>\n",
       "      <td>JakeWharton/SMSMorse</td>\n",
       "      <td>2009-03-27T03:26:46Z</td>\n",
       "      <td>17</td>\n",
       "      <td>False</td>\n",
       "      <td>2009</td>\n",
       "      <td>03</td>\n",
       "      <td>27</td>\n",
       "    </tr>\n",
       "    <tr>\n",
       "      <th>1</th>\n",
       "      <td>JakeWharton/mkvdts2ac3</td>\n",
       "      <td>2009-03-27T03:35:57Z</td>\n",
       "      <td>50</td>\n",
       "      <td>False</td>\n",
       "      <td>2009</td>\n",
       "      <td>03</td>\n",
       "      <td>27</td>\n",
       "    </tr>\n",
       "    <tr>\n",
       "      <th>2</th>\n",
       "      <td>JakeWharton/SMSBarrage</td>\n",
       "      <td>2009-03-31T22:18:32Z</td>\n",
       "      <td>27</td>\n",
       "      <td>False</td>\n",
       "      <td>2009</td>\n",
       "      <td>03</td>\n",
       "      <td>31</td>\n",
       "    </tr>\n",
       "    <tr>\n",
       "      <th>3</th>\n",
       "      <td>Knio/dominate</td>\n",
       "      <td>2009-05-14T05:42:39Z</td>\n",
       "      <td>36</td>\n",
       "      <td>False</td>\n",
       "      <td>2009</td>\n",
       "      <td>05</td>\n",
       "      <td>14</td>\n",
       "    </tr>\n",
       "    <tr>\n",
       "      <th>4</th>\n",
       "      <td>Knio/scenerename</td>\n",
       "      <td>2009-05-20T05:45:47Z</td>\n",
       "      <td>0</td>\n",
       "      <td>False</td>\n",
       "      <td>2009</td>\n",
       "      <td>05</td>\n",
       "      <td>20</td>\n",
       "    </tr>\n",
       "    <tr>\n",
       "      <th>5</th>\n",
       "      <td>JakeWharton/is_awesome</td>\n",
       "      <td>2009-07-12T02:27:19Z</td>\n",
       "      <td>0</td>\n",
       "      <td>False</td>\n",
       "      <td>2009</td>\n",
       "      <td>07</td>\n",
       "      <td>12</td>\n",
       "    </tr>\n",
       "    <tr>\n",
       "      <th>6</th>\n",
       "      <td>JakeWharton/py-videodownloader</td>\n",
       "      <td>2010-02-23T04:34:27Z</td>\n",
       "      <td>26</td>\n",
       "      <td>False</td>\n",
       "      <td>2010</td>\n",
       "      <td>02</td>\n",
       "      <td>23</td>\n",
       "    </tr>\n",
       "    <tr>\n",
       "      <th>7</th>\n",
       "      <td>JakeWharton/WakkaWallpaper</td>\n",
       "      <td>2010-07-07T23:41:20Z</td>\n",
       "      <td>8</td>\n",
       "      <td>False</td>\n",
       "      <td>2010</td>\n",
       "      <td>07</td>\n",
       "      <td>07</td>\n",
       "    </tr>\n",
       "    <tr>\n",
       "      <th>8</th>\n",
       "      <td>JakeWharton/SnakeWallpaper</td>\n",
       "      <td>2010-08-24T15:08:32Z</td>\n",
       "      <td>10</td>\n",
       "      <td>False</td>\n",
       "      <td>2010</td>\n",
       "      <td>08</td>\n",
       "      <td>24</td>\n",
       "    </tr>\n",
       "    <tr>\n",
       "      <th>9</th>\n",
       "      <td>JakeWharton/BreakoutWallpaper</td>\n",
       "      <td>2010-08-28T04:13:34Z</td>\n",
       "      <td>6</td>\n",
       "      <td>False</td>\n",
       "      <td>2010</td>\n",
       "      <td>08</td>\n",
       "      <td>28</td>\n",
       "    </tr>\n",
       "  </tbody>\n",
       "</table>\n",
       "</div>"
      ],
      "text/plain": [
       "                    nameWithOwner             createdAt  forkCount  isFork  \\\n",
       "0            JakeWharton/SMSMorse  2009-03-27T03:26:46Z         17   False   \n",
       "1          JakeWharton/mkvdts2ac3  2009-03-27T03:35:57Z         50   False   \n",
       "2          JakeWharton/SMSBarrage  2009-03-31T22:18:32Z         27   False   \n",
       "3                   Knio/dominate  2009-05-14T05:42:39Z         36   False   \n",
       "4                Knio/scenerename  2009-05-20T05:45:47Z          0   False   \n",
       "5          JakeWharton/is_awesome  2009-07-12T02:27:19Z          0   False   \n",
       "6  JakeWharton/py-videodownloader  2010-02-23T04:34:27Z         26   False   \n",
       "7      JakeWharton/WakkaWallpaper  2010-07-07T23:41:20Z          8   False   \n",
       "8      JakeWharton/SnakeWallpaper  2010-08-24T15:08:32Z         10   False   \n",
       "9   JakeWharton/BreakoutWallpaper  2010-08-28T04:13:34Z          6   False   \n",
       "\n",
       "   year month day  \n",
       "0  2009    03  27  \n",
       "1  2009    03  27  \n",
       "2  2009    03  31  \n",
       "3  2009    05  14  \n",
       "4  2009    05  20  \n",
       "5  2009    07  12  \n",
       "6  2010    02  23  \n",
       "7  2010    07  07  \n",
       "8  2010    08  24  \n",
       "9  2010    08  28  "
      ]
     },
     "execution_count": 17,
     "metadata": {},
     "output_type": "execute_result"
    }
   ],
   "source": [
    "repo1 = repo\n",
    "\n",
    "repo1[\"year\"] = \"\"\n",
    "repo1[\"month\"] = \"\"\n",
    "repo1[\"day\"] = \"\"\n",
    "\n",
    "index = 0\n",
    "\n",
    "for row in repo1['createdAt']:\n",
    "    year = (repo1.at[index ,'createdAt'][:4])\n",
    "    month = (repo1.at[index ,'createdAt'][5:7])\n",
    "    day = (repo1.at[index ,'createdAt'][8:10])\n",
    "    repo1.at[index, \"year\"] = year\n",
    "    repo1.at[index, \"month\"] = month\n",
    "    repo1.at[index, \"day\"] = day\n",
    "    index += 1\n",
    "    \n",
    "repo1.head(10)\n"
   ]
  },
  {
   "cell_type": "markdown",
   "metadata": {},
   "source": [
    "Jetzt wollen wir mal wissen wie viele Leute sich ein Repository geforkt haben. Die Anzahl ist pro Jahr zu sehen."
   ]
  },
  {
   "cell_type": "code",
   "execution_count": 18,
   "metadata": {},
   "outputs": [
    {
     "data": {
      "text/html": [
       "<div>\n",
       "<style>\n",
       "    .dataframe thead tr:only-child th {\n",
       "        text-align: right;\n",
       "    }\n",
       "\n",
       "    .dataframe thead th {\n",
       "        text-align: left;\n",
       "    }\n",
       "\n",
       "    .dataframe tbody tr th {\n",
       "        vertical-align: top;\n",
       "    }\n",
       "</style>\n",
       "<table border=\"1\" class=\"dataframe\">\n",
       "  <thead>\n",
       "    <tr style=\"text-align: right;\">\n",
       "      <th></th>\n",
       "      <th>forkCount</th>\n",
       "    </tr>\n",
       "    <tr>\n",
       "      <th>year</th>\n",
       "      <th></th>\n",
       "    </tr>\n",
       "  </thead>\n",
       "  <tbody>\n",
       "    <tr>\n",
       "      <th>2009</th>\n",
       "      <td>130</td>\n",
       "    </tr>\n",
       "    <tr>\n",
       "      <th>2010</th>\n",
       "      <td>5178</td>\n",
       "    </tr>\n",
       "    <tr>\n",
       "      <th>2011</th>\n",
       "      <td>10532</td>\n",
       "    </tr>\n",
       "    <tr>\n",
       "      <th>2012</th>\n",
       "      <td>10522</td>\n",
       "    </tr>\n",
       "    <tr>\n",
       "      <th>2013</th>\n",
       "      <td>13775</td>\n",
       "    </tr>\n",
       "    <tr>\n",
       "      <th>2014</th>\n",
       "      <td>2176</td>\n",
       "    </tr>\n",
       "    <tr>\n",
       "      <th>2015</th>\n",
       "      <td>6801</td>\n",
       "    </tr>\n",
       "  </tbody>\n",
       "</table>\n",
       "</div>"
      ],
      "text/plain": [
       "      forkCount\n",
       "year           \n",
       "2009        130\n",
       "2010       5178\n",
       "2011      10532\n",
       "2012      10522\n",
       "2013      13775\n",
       "2014       2176\n",
       "2015       6801"
      ]
     },
     "execution_count": 18,
     "metadata": {},
     "output_type": "execute_result"
    }
   ],
   "source": [
    "sumfork = repo1[['year','forkCount']].groupby('year')[['forkCount']].sum()\n",
    "sumfork"
   ]
  },
  {
   "cell_type": "code",
   "execution_count": 19,
   "metadata": {
    "collapsed": true
   },
   "outputs": [],
   "source": [
    "sumfork.to_csv('data/sumFork.csv')"
   ]
  },
  {
   "cell_type": "markdown",
   "metadata": {},
   "source": [
    "##### Mutation: Kombination aus Informationen bekommen und Informatonen abzusetzen"
   ]
  },
  {
   "cell_type": "code",
   "execution_count": 21,
   "metadata": {},
   "outputs": [
    {
     "name": "stdout",
     "output_type": "stream",
     "text": [
      "{'data': {'repository': {'issue': {'id': 'MDU6SXNzdWUyODYyMjQ3MzM='}}}}\n",
      "{'data': {'addReaction': {'reaction': {'content': 'HOORAY'}, 'subject': {'id': 'MDU6SXNzdWUyODYyMjQ3MzM='}}}}\n"
     ]
    }
   ],
   "source": [
    "query = '''query FindIssueID {\n",
    "  repository(owner:\"datasienceelmo\", name:\"hello-world\") {\n",
    "    issue(number:2) {\n",
    "      id\n",
    "    }\n",
    "  }\n",
    "}'''\n",
    "\n",
    "resultQuery = run_query(query)\n",
    "\n",
    "mutation = '''mutation AddReactionToIssue {\n",
    "  addReaction(input:{subjectId:\"MDU6SXNzdWUyODYyMjQ3MzM=\",content:HOORAY}) {\n",
    "    reaction {\n",
    "      content\n",
    "    }\n",
    "    subject {\n",
    "      id\n",
    "    }\n",
    "  }\n",
    "}'''\n",
    "\n",
    "resultMutation = run_query(mutation)\n",
    "\n",
    "pprint (resultQuery)\n",
    "print (resultMutation)"
   ]
  },
  {
   "cell_type": "markdown",
   "metadata": {},
   "source": [
    "<span style=\"color:red\">Review RK: Der Code wird zwar auf der Internetseite: https://developer.github.com/v4/guides/forming-calls/, welche du unter 'Die GitHub API - die Datenquelle' - Step-by-Step Guide für API Calls' angegeben hast, erklärt, aber ich würde in den obigen Code noch ein paar Kommentare setzten.\n",
    "(AddReaction, input,...,'content: HOORAY'-> steht für das Partysymbol.) Weitere Sysmbole findet man auf der Internetseite.)\n",
    "\n",
    "</span>\n",
    "Als Ergebnis ist nun links unten, beim Issue ein Party-Symbol zusehen. <span style=\"color:red\">Review RK: Ich würde evtl. schreiben: Unter dem Menüpunkt 'Issue' ist in GitHub nun unten links ein Partysymbol zu sehen.\n",
    "</span>"
   ]
  },
  {
   "cell_type": "markdown",
   "metadata": {},
   "source": [
    "![HOORAY](images/mutation.png)"
   ]
  },
  {
   "cell_type": "markdown",
   "metadata": {},
   "source": [
    "## Referenzen"
   ]
  },
  {
   "cell_type": "markdown",
   "metadata": {},
   "source": [
    "[1] Butter Knife GitHub [http://jakewharton.github.io/butterknife/](http://jakewharton.github.io/butterknife/) \n",
    "\n",
    "[2] Git *FAQ* [https://git.wiki.kernel.org/index.php/GitFaq#Why_the_.27Git.27_name.3F](https://git.wiki.kernel.org/index.php/GitFaq#Why_the_.27Git.27_name.3F) \n",
    "\n",
    "[3] Developer Guide API V4 [https://developer.github.com/v4/guides](https://developer.github.com/v4/guides)  \n",
    "\n",
    "[4] Wikipediabeitrag *Git* [https://de.wikipedia.org/wiki/Git](https://de.wikipedia.org/wiki/Git)  \n",
    "\n",
    "[5] Wikipediabeitrag *GitHub* [https://de.wikipedia.org/wiki/GitHub](https://de.wikipedia.org/wiki/GitHub)\n",
    "\n"
   ]
  },
  {
   "cell_type": "markdown",
   "metadata": {
    "collapsed": true
   },
   "source": [
    "<span style=\"color:red\">Review RK: gute Möglichkeit, die verwendeten Quellen mit Fußnoten darzustellen. Ich würde, bei der alphabetischen Sortierung nur [2] und [3] vertauschen. </span>\n",
    "\n",
    "<span style=\"color:red\"> Super, übersichtliches Notebook. Hat alles funktionioiert, auch das Token zu erstellen. Ich würde nur noch ein paar Kommentare zu dem Code schreiben.</span>"
   ]
  }
 ],
 "metadata": {
  "kernelspec": {
   "display_name": "Python 3",
   "language": "python",
   "name": "python3"
  },
  "language_info": {
   "codemirror_mode": {
    "name": "ipython",
    "version": 3
   },
   "file_extension": ".py",
   "mimetype": "text/x-python",
   "name": "python",
   "nbconvert_exporter": "python",
   "pygments_lexer": "ipython3",
   "version": "3.6.2"
  }
 },
 "nbformat": 4,
 "nbformat_minor": 2
}
