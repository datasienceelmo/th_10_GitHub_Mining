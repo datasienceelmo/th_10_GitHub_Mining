{
 "cells": [
  {
   "cell_type": "markdown",
   "metadata": {
    "collapsed": true
   },
   "source": [
    "# Übung zu GitHub Mining"
   ]
  },
  {
   "cell_type": "markdown",
   "metadata": {},
   "source": [
    "## Aufgabe 1:"
   ]
  },
  {
   "cell_type": "markdown",
   "metadata": {},
   "source": [
    "1. Wer ist Linus Torvalds und warum denk er, er sei ein egoistisches Arschloch?\n",
    "2. In welche Phasen unterteilt sich GitHub Mining?\n",
    "3. Wie heißt der Endpoint zur REST API der Version 3? (Tipp: GitHub Developer Portal)"
   ]
  },
  {
   "cell_type": "markdown",
   "metadata": {},
   "source": [
    "## Aufgabe 2:"
   ]
  },
  {
   "cell_type": "markdown",
   "metadata": {},
   "source": [
    "> **Anmerkung:** Die Aufgaben sind auch wenn Sie über die Website lösbar sind, alle per GitHub API Anfrage zu lösen."
   ]
  },
  {
   "cell_type": "markdown",
   "metadata": {},
   "source": [
    "1. Finde heraus was dein eigener Account für einen `login, location`, und `bio` beinhaltet. Nutze zur Ausgabe `pprint([yourvariable].json())`\n",
    "2. Was musst du beachten, wenn du mit print() dein Ergebnis präsentieren willst?\n",
    "> Ab Aufgabe 2.3 empfehle ich meine `run_query()`-Methode (in Ausarbeitung) zu benutzen, ist aber **kein muss**.\n",
    "3. Liste alle Repository's des  User mit login = Markus-Go auf. Gebe zu jedem Repository den Namen die Beschreibung und die URL aus?\n",
    "4. Erstelle, aus dem Respond des Requests, ein CSV mit dem Namen `goldsteinGitHub.csv` mit folgendem Inhalt:\n",
    "    - Stars des Repo's\n",
    "    - Forks\n",
    "    - Closed Issues\n",
    "    - Open Issues"
   ]
  },
  {
   "cell_type": "markdown",
   "metadata": {},
   "source": [
    "## Aufgabe 3: Mutation\n",
    "> Zu nutzendes Repo ist `hello-world` des Users mit dem login `datasienceelmo` (ja falsch geschrieben)\n",
    "\n",
    "1. Mache eine addStar Mutation und füge dem Repository somit einen Star hinzu.\n",
    "2. Schreibe einen Kommentar per Mutation unter das `Issue für Datascience` (#3)\n",
    "\n",
    "> Kommentar Template: Mutation von [Dein Name] hat funktioniert."
   ]
  },
  {
   "cell_type": "markdown",
   "metadata": {},
   "source": [
    "-----"
   ]
  },
  {
   "cell_type": "markdown",
   "metadata": {},
   "source": [
    "# Lösung:"
   ]
  },
  {
   "cell_type": "markdown",
   "metadata": {},
   "source": [
    "ab hier lösen"
   ]
  },
  {
   "cell_type": "markdown",
   "metadata": {},
   "source": [
    "-----"
   ]
  },
  {
   "cell_type": "markdown",
   "metadata": {},
   "source": [
    "###### Links zu den Teilen der Dokumentation, welche zur Lösung der Aufgabe helfen können:\n",
    "\n",
    "*Queryobjekte:*  \n",
    "+ [User](https://developer.github.com/v4/object/user/)\n",
    "+ [Repository](https://developer.github.com/v4/object/repository/)\n",
    "+ [Issue Connection](https://developer.github.com/v4/object/issueconnection/)\n",
    "\n",
    "*Mutations:*\n",
    "+ [addStar](https://developer.github.com/v4/mutation/addstar/)\n",
    "+ [addComment](https://developer.github.com/v4/mutation/addcomment/)"
   ]
  },
  {
   "cell_type": "code",
   "execution_count": null,
   "metadata": {
    "collapsed": true
   },
   "outputs": [],
   "source": []
  }
 ],
 "metadata": {
  "kernelspec": {
   "display_name": "Python 3",
   "language": "python",
   "name": "python3"
  },
  "language_info": {
   "codemirror_mode": {
    "name": "ipython",
    "version": 3
   },
   "file_extension": ".py",
   "mimetype": "text/x-python",
   "name": "python",
   "nbconvert_exporter": "python",
   "pygments_lexer": "ipython3",
   "version": "3.6.2"
  }
 },
 "nbformat": 4,
 "nbformat_minor": 2
}
